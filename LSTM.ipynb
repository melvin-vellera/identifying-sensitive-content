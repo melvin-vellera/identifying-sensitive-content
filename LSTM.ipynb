{
 "cells": [
  {
   "cell_type": "code",
   "execution_count": 1,
   "id": "d6704ccb-a3e5-40e6-ade8-05d7fe621bb8",
   "metadata": {
    "id": "d6704ccb-a3e5-40e6-ade8-05d7fe621bb8"
   },
   "outputs": [],
   "source": [
    "import pandas as pd\n",
    "import numpy as np\n",
    "import matplotlib.pyplot as plt\n",
    "import re\n",
    "import spacy\n",
    "\n",
    "import string\n",
    "from tqdm.notebook import tqdm\n",
    "import matplotlib.pyplot as plt\n",
    "import re\n",
    "import torch\n",
    "from torch.utils.data import Dataset, DataLoader\n",
    "import torch.nn as nn\n",
    "import torch.optim as optim\n",
    "from sklearn.model_selection import train_test_split\n",
    "from sklearn.metrics import accuracy_score, f1_score"
   ]
  },
  {
   "cell_type": "markdown",
   "id": "6786276b-d65e-4e80-9c51-ccdef3be5566",
   "metadata": {},
   "source": [
    "### Load the traing and test data"
   ]
  },
  {
   "cell_type": "code",
   "execution_count": 2,
   "id": "74b2eae3-17b1-4287-9501-a4d76e44bea9",
   "metadata": {
    "id": "74b2eae3-17b1-4287-9501-a4d76e44bea9"
   },
   "outputs": [],
   "source": [
    "df_train = pd.read_csv('data/train.csv')"
   ]
  },
  {
   "cell_type": "code",
   "execution_count": 3,
   "id": "c9f81cfb-033c-45c0-8253-dd6802a60cc7",
   "metadata": {
    "colab": {
     "base_uri": "https://localhost:8080/",
     "height": 250
    },
    "id": "c9f81cfb-033c-45c0-8253-dd6802a60cc7",
    "outputId": "2cb9edb9-c909-4f74-9d5f-8fca167e4cd7"
   },
   "outputs": [
    {
     "data": {
      "text/html": [
       "<div>\n",
       "<style scoped>\n",
       "    .dataframe tbody tr th:only-of-type {\n",
       "        vertical-align: middle;\n",
       "    }\n",
       "\n",
       "    .dataframe tbody tr th {\n",
       "        vertical-align: top;\n",
       "    }\n",
       "\n",
       "    .dataframe thead th {\n",
       "        text-align: right;\n",
       "    }\n",
       "</style>\n",
       "<table border=\"1\" class=\"dataframe\">\n",
       "  <thead>\n",
       "    <tr style=\"text-align: right;\">\n",
       "      <th></th>\n",
       "      <th>id</th>\n",
       "      <th>comment_text</th>\n",
       "      <th>toxic</th>\n",
       "      <th>severe_toxic</th>\n",
       "      <th>obscene</th>\n",
       "      <th>threat</th>\n",
       "      <th>insult</th>\n",
       "      <th>identity_hate</th>\n",
       "    </tr>\n",
       "  </thead>\n",
       "  <tbody>\n",
       "    <tr>\n",
       "      <th>0</th>\n",
       "      <td>0000997932d777bf</td>\n",
       "      <td>Explanation\\nWhy the edits made under my usern...</td>\n",
       "      <td>0</td>\n",
       "      <td>0</td>\n",
       "      <td>0</td>\n",
       "      <td>0</td>\n",
       "      <td>0</td>\n",
       "      <td>0</td>\n",
       "    </tr>\n",
       "    <tr>\n",
       "      <th>1</th>\n",
       "      <td>000103f0d9cfb60f</td>\n",
       "      <td>D'aww! He matches this background colour I'm s...</td>\n",
       "      <td>0</td>\n",
       "      <td>0</td>\n",
       "      <td>0</td>\n",
       "      <td>0</td>\n",
       "      <td>0</td>\n",
       "      <td>0</td>\n",
       "    </tr>\n",
       "    <tr>\n",
       "      <th>2</th>\n",
       "      <td>000113f07ec002fd</td>\n",
       "      <td>Hey man, I'm really not trying to edit war. It...</td>\n",
       "      <td>0</td>\n",
       "      <td>0</td>\n",
       "      <td>0</td>\n",
       "      <td>0</td>\n",
       "      <td>0</td>\n",
       "      <td>0</td>\n",
       "    </tr>\n",
       "    <tr>\n",
       "      <th>3</th>\n",
       "      <td>0001b41b1c6bb37e</td>\n",
       "      <td>\"\\nMore\\nI can't make any real suggestions on ...</td>\n",
       "      <td>0</td>\n",
       "      <td>0</td>\n",
       "      <td>0</td>\n",
       "      <td>0</td>\n",
       "      <td>0</td>\n",
       "      <td>0</td>\n",
       "    </tr>\n",
       "    <tr>\n",
       "      <th>4</th>\n",
       "      <td>0001d958c54c6e35</td>\n",
       "      <td>You, sir, are my hero. Any chance you remember...</td>\n",
       "      <td>0</td>\n",
       "      <td>0</td>\n",
       "      <td>0</td>\n",
       "      <td>0</td>\n",
       "      <td>0</td>\n",
       "      <td>0</td>\n",
       "    </tr>\n",
       "  </tbody>\n",
       "</table>\n",
       "</div>"
      ],
      "text/plain": [
       "                 id                                       comment_text  toxic  \\\n",
       "0  0000997932d777bf  Explanation\\nWhy the edits made under my usern...      0   \n",
       "1  000103f0d9cfb60f  D'aww! He matches this background colour I'm s...      0   \n",
       "2  000113f07ec002fd  Hey man, I'm really not trying to edit war. It...      0   \n",
       "3  0001b41b1c6bb37e  \"\\nMore\\nI can't make any real suggestions on ...      0   \n",
       "4  0001d958c54c6e35  You, sir, are my hero. Any chance you remember...      0   \n",
       "\n",
       "   severe_toxic  obscene  threat  insult  identity_hate  \n",
       "0             0        0       0       0              0  \n",
       "1             0        0       0       0              0  \n",
       "2             0        0       0       0              0  \n",
       "3             0        0       0       0              0  \n",
       "4             0        0       0       0              0  "
      ]
     },
     "execution_count": 3,
     "metadata": {},
     "output_type": "execute_result"
    }
   ],
   "source": [
    "df_train.head()"
   ]
  },
  {
   "cell_type": "code",
   "execution_count": 4,
   "id": "c23d40a7-553c-444a-aa3e-27712bb5d669",
   "metadata": {
    "id": "c23d40a7-553c-444a-aa3e-27712bb5d669"
   },
   "outputs": [],
   "source": [
    "outcome = ['toxic', 'severe_toxic', 'obscene', 'threat', 'insult', 'identity_hate']"
   ]
  },
  {
   "cell_type": "code",
   "execution_count": 5,
   "id": "9d533600-c40c-4441-be44-965b1a4b9444",
   "metadata": {},
   "outputs": [],
   "source": [
    "df_train['clean'] = (df_train[outcome].sum(axis=1)==0).astype(int)"
   ]
  },
  {
   "cell_type": "code",
   "execution_count": 6,
   "id": "98ed9bc6-a63f-41f2-9c3f-09799ba9757f",
   "metadata": {},
   "outputs": [
    {
     "data": {
      "text/html": [
       "<div>\n",
       "<style scoped>\n",
       "    .dataframe tbody tr th:only-of-type {\n",
       "        vertical-align: middle;\n",
       "    }\n",
       "\n",
       "    .dataframe tbody tr th {\n",
       "        vertical-align: top;\n",
       "    }\n",
       "\n",
       "    .dataframe thead th {\n",
       "        text-align: right;\n",
       "    }\n",
       "</style>\n",
       "<table border=\"1\" class=\"dataframe\">\n",
       "  <thead>\n",
       "    <tr style=\"text-align: right;\">\n",
       "      <th></th>\n",
       "      <th>id</th>\n",
       "      <th>comment_text</th>\n",
       "      <th>toxic</th>\n",
       "      <th>severe_toxic</th>\n",
       "      <th>obscene</th>\n",
       "      <th>threat</th>\n",
       "      <th>insult</th>\n",
       "      <th>identity_hate</th>\n",
       "      <th>clean</th>\n",
       "    </tr>\n",
       "  </thead>\n",
       "  <tbody>\n",
       "    <tr>\n",
       "      <th>0</th>\n",
       "      <td>0000997932d777bf</td>\n",
       "      <td>Explanation\\nWhy the edits made under my usern...</td>\n",
       "      <td>0</td>\n",
       "      <td>0</td>\n",
       "      <td>0</td>\n",
       "      <td>0</td>\n",
       "      <td>0</td>\n",
       "      <td>0</td>\n",
       "      <td>1</td>\n",
       "    </tr>\n",
       "    <tr>\n",
       "      <th>1</th>\n",
       "      <td>000103f0d9cfb60f</td>\n",
       "      <td>D'aww! He matches this background colour I'm s...</td>\n",
       "      <td>0</td>\n",
       "      <td>0</td>\n",
       "      <td>0</td>\n",
       "      <td>0</td>\n",
       "      <td>0</td>\n",
       "      <td>0</td>\n",
       "      <td>1</td>\n",
       "    </tr>\n",
       "    <tr>\n",
       "      <th>2</th>\n",
       "      <td>000113f07ec002fd</td>\n",
       "      <td>Hey man, I'm really not trying to edit war. It...</td>\n",
       "      <td>0</td>\n",
       "      <td>0</td>\n",
       "      <td>0</td>\n",
       "      <td>0</td>\n",
       "      <td>0</td>\n",
       "      <td>0</td>\n",
       "      <td>1</td>\n",
       "    </tr>\n",
       "    <tr>\n",
       "      <th>3</th>\n",
       "      <td>0001b41b1c6bb37e</td>\n",
       "      <td>\"\\nMore\\nI can't make any real suggestions on ...</td>\n",
       "      <td>0</td>\n",
       "      <td>0</td>\n",
       "      <td>0</td>\n",
       "      <td>0</td>\n",
       "      <td>0</td>\n",
       "      <td>0</td>\n",
       "      <td>1</td>\n",
       "    </tr>\n",
       "    <tr>\n",
       "      <th>4</th>\n",
       "      <td>0001d958c54c6e35</td>\n",
       "      <td>You, sir, are my hero. Any chance you remember...</td>\n",
       "      <td>0</td>\n",
       "      <td>0</td>\n",
       "      <td>0</td>\n",
       "      <td>0</td>\n",
       "      <td>0</td>\n",
       "      <td>0</td>\n",
       "      <td>1</td>\n",
       "    </tr>\n",
       "  </tbody>\n",
       "</table>\n",
       "</div>"
      ],
      "text/plain": [
       "                 id                                       comment_text  toxic  \\\n",
       "0  0000997932d777bf  Explanation\\nWhy the edits made under my usern...      0   \n",
       "1  000103f0d9cfb60f  D'aww! He matches this background colour I'm s...      0   \n",
       "2  000113f07ec002fd  Hey man, I'm really not trying to edit war. It...      0   \n",
       "3  0001b41b1c6bb37e  \"\\nMore\\nI can't make any real suggestions on ...      0   \n",
       "4  0001d958c54c6e35  You, sir, are my hero. Any chance you remember...      0   \n",
       "\n",
       "   severe_toxic  obscene  threat  insult  identity_hate  clean  \n",
       "0             0        0       0       0              0      1  \n",
       "1             0        0       0       0              0      1  \n",
       "2             0        0       0       0              0      1  \n",
       "3             0        0       0       0              0      1  \n",
       "4             0        0       0       0              0      1  "
      ]
     },
     "execution_count": 6,
     "metadata": {},
     "output_type": "execute_result"
    }
   ],
   "source": [
    "df_train.head()"
   ]
  },
  {
   "cell_type": "code",
   "execution_count": 7,
   "id": "4f9c8148-81ce-4f58-bf9c-8414fb20c117",
   "metadata": {},
   "outputs": [
    {
     "data": {
      "image/png": "[encoded data removed]",
      "text/plain": [
       "<Figure size 720x360 with 1 Axes>"
      ]
     },
     "metadata": {
      "needs_background": "light"
     },
     "output_type": "display_data"
    }
   ],
   "source": [
    "fig, ax = plt.subplots(figsize=(10,5))\n",
    "df_train[outcome+['clean']].sum().sort_values().plot(kind=\"barh\",color='#b7eb34')\n",
    "ax = plt.gca()\n",
    "ax.spines['right'].set_visible(False)\n",
    "ax.spines['top'].set_visible(False)\n",
    "ax.set_xlabel('Frequency counts', fontsize=14)\n",
    "ax.set_ylabel('Labels', fontsize=14)\n",
    "ax.set_title('Class vs Frequency', fontsize=16)\n",
    "plt.show()\n"
   ]
  },
  {
   "cell_type": "code",
   "execution_count": 8,
   "id": "46e514c1-e342-4a5f-8340-d0727ea0283d",
   "metadata": {
    "id": "46e514c1-e342-4a5f-8340-d0727ea0283d"
   },
   "outputs": [],
   "source": [
    "y_train = df_train[outcome].copy()"
   ]
  },
  {
   "cell_type": "code",
   "execution_count": 9,
   "id": "bb365e40-a7ab-4346-91fc-016aad4c3b47",
   "metadata": {
    "colab": {
     "base_uri": "https://localhost:8080/"
    },
    "id": "bb365e40-a7ab-4346-91fc-016aad4c3b47",
    "outputId": "ab1e0079-f490-4652-8e05-bc01caea0435"
   },
   "outputs": [
    {
     "name": "stdout",
     "output_type": "stream",
     "text": [
      "0    144277\n",
      "1     15294\n",
      "Name: toxic, dtype: int64\n",
      "0    157976\n",
      "1      1595\n",
      "Name: severe_toxic, dtype: int64\n",
      "0    151122\n",
      "1      8449\n",
      "Name: obscene, dtype: int64\n",
      "0    159093\n",
      "1       478\n",
      "Name: threat, dtype: int64\n",
      "0    151694\n",
      "1      7877\n",
      "Name: insult, dtype: int64\n",
      "0    158166\n",
      "1      1405\n",
      "Name: identity_hate, dtype: int64\n"
     ]
    }
   ],
   "source": [
    "for col in y_train.columns:\n",
    "    print(y_train[col].value_counts())"
   ]
  },
  {
   "cell_type": "code",
   "execution_count": 11,
   "id": "42379b2a-63d3-4512-9feb-6e187556fac2",
   "metadata": {
    "id": "42379b2a-63d3-4512-9feb-6e187556fac2"
   },
   "outputs": [],
   "source": [
    "# Seperate the comments and outcome\n",
    "x_train = df_train[['comment_text']].copy()"
   ]
  },
  {
   "cell_type": "code",
   "execution_count": 13,
   "id": "6TlRWKiYhseE",
   "metadata": {
    "colab": {
     "base_uri": "https://localhost:8080/"
    },
    "id": "6TlRWKiYhseE",
    "outputId": "a8a518d5-5c0a-4d18-91a9-6c85ebdc4179"
   },
   "outputs": [
    {
     "data": {
      "text/plain": [
       "(159571, 1)"
      ]
     },
     "execution_count": 13,
     "metadata": {},
     "output_type": "execute_result"
    }
   ],
   "source": [
    "x_train.shape"
   ]
  },
  {
   "cell_type": "markdown",
   "id": "1e641aab-4fbc-43e4-b050-b9e5c9f156f0",
   "metadata": {
    "id": "1e641aab-4fbc-43e4-b050-b9e5c9f156f0"
   },
   "source": [
    "## Clean the text of comments"
   ]
  },
  {
   "cell_type": "code",
   "execution_count": 14,
   "id": "91c3c1f9-8d35-46e5-a679-81b4ab97fa7c",
   "metadata": {
    "colab": {
     "base_uri": "https://localhost:8080/"
    },
    "id": "91c3c1f9-8d35-46e5-a679-81b4ab97fa7c",
    "outputId": "b38d9309-02c1-42d9-dbc5-339e4aa7aaae"
   },
   "outputs": [
    {
     "name": "stderr",
     "output_type": "stream",
     "text": [
      "[nltk_data] Downloading package stopwords to\n",
      "[nltk_data]     /Users/lakshmi/nltk_data...\n",
      "[nltk_data]   Package stopwords is already up-to-date!\n"
     ]
    }
   ],
   "source": [
    "import nltk\n",
    "nltk.download('stopwords')\n",
    "from nltk.corpus import stopwords\n",
    "from nltk.tokenize import word_tokenize\n",
    "\n"
   ]
  },
  {
   "cell_type": "code",
   "execution_count": 15,
   "id": "ec903518-1446-4f53-94a4-dea8f1b1c0c5",
   "metadata": {},
   "outputs": [],
   "source": [
    "stop_words = set(stopwords.words('english'))"
   ]
  },
  {
   "cell_type": "code",
   "execution_count": 16,
   "id": "aecd40ca-b2c7-4be2-82e9-a1fc2b8f29f1",
   "metadata": {},
   "outputs": [],
   "source": [
    "nlp = spacy.load('en_core_web_sm', disable = ['ner', 'parser'])"
   ]
  },
  {
   "cell_type": "code",
   "execution_count": 17,
   "id": "1f6b9dbc-2956-4ca1-8210-7822ffd5e9a4",
   "metadata": {
    "id": "1f6b9dbc-2956-4ca1-8210-7822ffd5e9a4"
   },
   "outputs": [],
   "source": [
    "\n",
    "def clean(text):\n",
    "    # remove emojis if any\n",
    "    regrex_pattern = re.compile(pattern = \"[\"\n",
    "        u\"\\U0001F600-\\U0001F64F\"  # emoticons\n",
    "        u\"\\U0001F300-\\U0001F5FF\"  # symbols & pictographs\n",
    "        u\"\\U0001F680-\\U0001F6FF\"  # transport & map symbols\n",
    "        u\"\\U0001F1E0-\\U0001F1FF\"  # flags (iOS)\n",
    "                           \"]+\", flags = re.UNICODE)\n",
    "    text = regrex_pattern.sub(r'',text)\n",
    "        \n",
    "    # remove links and hashtags\n",
    "    text = text.replace('\\r', '').replace('\\n', ' ').replace('\\n', ' ').lower() #remove \\n and \\r and lowercase\n",
    "    text = re.sub(r\"(?:\\@|https?\\://)\\S+\", \"\", text) #remove links and mentions\n",
    "    text = re.sub(r'[^\\x00-\\x7f]',r'', text) #remove non utf8/ascii characters such as '\\x9a\\x91\\x97\\x9a\\x97'\n",
    "    banned_list= string.punctuation + 'Ã'+'±'+'ã'+'¼'+'â'+'»'+'§'\n",
    "    table = str.maketrans('', '', banned_list)\n",
    "    text = text.translate(table)\n",
    "    text = \" \".join(word.strip() for word in re.split('#(?!(?:hashtag)\\b)[\\w-]+(?=(?:\\s+#[\\w-]+)*\\s*$)', text)) #remove last hashtags\n",
    "    \n",
    "    # truncate the text to only 200 words\n",
    "    text = \" \".join(word.strip() for word in re.split('#|_', text))[:200] #remove hashtags symbol from words in the middle of the sentence\n",
    "    text = text.lower()\n",
    "    tokenized_text = nlp(text)\n",
    "    \n",
    "    # remove the stop words and lemmatize\n",
    "    text = [token.lemma_ for token in tokenized_text if ((not token.is_stop) or (' ' in token.text))] \n",
    "    text = \" \".join(text)\n",
    "\n",
    "    return text"
   ]
  },
  {
   "cell_type": "code",
   "execution_count": 20,
   "id": "ebeaf800-eb77-427f-b9a7-d5f8ee65070b",
   "metadata": {
    "id": "ebeaf800-eb77-427f-b9a7-d5f8ee65070b"
   },
   "outputs": [],
   "source": [
    "# Clean the comment text for train and test data\n",
    "x_train['clean_text'] = x_train['comment_text'].map(lambda x:clean(x))"
   ]
  },
  {
   "cell_type": "code",
   "execution_count": 351,
   "id": "a6d72dae-43af-4eaf-b1ea-5ebbc509cf54",
   "metadata": {},
   "outputs": [],
   "source": [
    "# saving the clean tokens to a file\n",
    "x_train.to_csv('data/x_train.csv')"
   ]
  },
  {
   "cell_type": "code",
   "execution_count": 91,
   "id": "43cf20d5-6951-493f-8362-9646515a058e",
   "metadata": {},
   "outputs": [],
   "source": [
    "x_train = pd.read_csv('data/x_train.csv')"
   ]
  },
  {
   "cell_type": "code",
   "execution_count": 21,
   "id": "c6617151-ae64-4661-8ac6-5035148fcdeb",
   "metadata": {
    "colab": {
     "base_uri": "https://localhost:8080/",
     "height": 206
    },
    "id": "c6617151-ae64-4661-8ac6-5035148fcdeb",
    "outputId": "36159b2f-5572-4e6d-ee05-10126162483c"
   },
   "outputs": [
    {
     "name": "stdout",
     "output_type": "stream",
     "text": [
      "Raw comment: \n",
      "Hey man, I'm really not trying to edit war. It's just that this guy is constantly removing relevant information and talking to me through edits instead of my talk page. He seems to care more about the formatting than the actual info.\n",
      "\n",
      "Cleaned and lemmatized text: \n",
      "hey man m try edit war guy constantly remove relevant information talk edit instead talk page care form\n"
     ]
    }
   ],
   "source": [
    "# testing the cleaning and tokenizing process on a sample text\n",
    "print('Raw comment: ')\n",
    "print(x_train.iloc[2]['comment_text'])\n",
    "print()\n",
    "print('Cleaned and lemmatized text: ')\n",
    "print(x_train.iloc[2]['clean_text'])"
   ]
  },
  {
   "cell_type": "markdown",
   "id": "181cc020-f116-4089-8cf2-101c9296e4c8",
   "metadata": {},
   "source": [
    "### Remove low frequency tokens and create a word dictionary to encode tokens"
   ]
  },
  {
   "cell_type": "code",
   "execution_count": 22,
   "id": "f6b82727-9d49-454f-9188-f86d874ef9a8",
   "metadata": {
    "colab": {
     "base_uri": "https://localhost:8080/"
    },
    "id": "f6b82727-9d49-454f-9188-f86d874ef9a8",
    "outputId": "65fa3923-93bb-4603-a047-041569d26dc5"
   },
   "outputs": [
    {
     "name": "stdout",
     "output_type": "stream",
     "text": [
      "136076\n"
     ]
    },
    {
     "data": {
      "text/plain": [
       "7188"
      ]
     },
     "execution_count": 22,
     "metadata": {},
     "output_type": "execute_result"
    }
   ],
   "source": [
    "from collections import Counter\n",
    "\n",
    "comments = [comment.split() for comment in list(x_train['clean_text'])]\n",
    "word_freq = dict(Counter([token for comment in comments for token in comment]).most_common())\n",
    "print(len(word_freq))\n",
    "min_freq = 20\n",
    "word_dict = {}\n",
    "\n",
    "# sending all the unknowns to 0\n",
    "i = 1\n",
    "for word in word_freq:\n",
    "    if word_freq[word] > min_freq:\n",
    "        word_dict[word] = i\n",
    "        i += 1\n",
    "    else:\n",
    "        word_dict[word] = 0\n",
    "\n",
    "# dictionary length        \n",
    "dict_length = max(word_dict.values()) + 1\n",
    "dict_length"
   ]
  },
  {
   "cell_type": "code",
   "execution_count": 23,
   "id": "c85b3002-e68d-4497-9c78-bd8fe3a14327",
   "metadata": {
    "id": "c85b3002-e68d-4497-9c78-bd8fe3a14327"
   },
   "outputs": [],
   "source": [
    "# clean out unknown tokens for simplicity\n",
    "x_train['clean_text'] = x_train['clean_text'].apply(lambda x: ' '.join([token for token in x.split() if word_dict[token] != 0]))\n",
    "                "
   ]
  },
  {
   "cell_type": "code",
   "execution_count": 24,
   "id": "bGfv7qj0zrxu",
   "metadata": {
    "colab": {
     "base_uri": "https://localhost:8080/"
    },
    "id": "bGfv7qj0zrxu",
    "outputId": "92d6c426-c379-4a91-d092-ad8a954495ec"
   },
   "outputs": [
    {
     "data": {
      "text/plain": [
       "['toxic', 'severe_toxic', 'obscene', 'threat', 'insult', 'identity_hate']"
      ]
     },
     "execution_count": 24,
     "metadata": {},
     "output_type": "execute_result"
    }
   ],
   "source": [
    "outcome"
   ]
  },
  {
   "cell_type": "code",
   "execution_count": 25,
   "id": "zPbkgrbI09Yt",
   "metadata": {
    "colab": {
     "base_uri": "https://localhost:8080/",
     "height": 424
    },
    "id": "zPbkgrbI09Yt",
    "outputId": "7e8fa31a-bb1c-4b15-e5fc-53e26e5832e9"
   },
   "outputs": [
    {
     "data": {
      "text/html": [
       "<div>\n",
       "<style scoped>\n",
       "    .dataframe tbody tr th:only-of-type {\n",
       "        vertical-align: middle;\n",
       "    }\n",
       "\n",
       "    .dataframe tbody tr th {\n",
       "        vertical-align: top;\n",
       "    }\n",
       "\n",
       "    .dataframe thead th {\n",
       "        text-align: right;\n",
       "    }\n",
       "</style>\n",
       "<table border=\"1\" class=\"dataframe\">\n",
       "  <thead>\n",
       "    <tr style=\"text-align: right;\">\n",
       "      <th></th>\n",
       "      <th>toxic</th>\n",
       "      <th>severe_toxic</th>\n",
       "      <th>obscene</th>\n",
       "      <th>threat</th>\n",
       "      <th>insult</th>\n",
       "      <th>identity_hate</th>\n",
       "    </tr>\n",
       "  </thead>\n",
       "  <tbody>\n",
       "    <tr>\n",
       "      <th>0</th>\n",
       "      <td>0</td>\n",
       "      <td>0</td>\n",
       "      <td>0</td>\n",
       "      <td>0</td>\n",
       "      <td>0</td>\n",
       "      <td>0</td>\n",
       "    </tr>\n",
       "    <tr>\n",
       "      <th>1</th>\n",
       "      <td>0</td>\n",
       "      <td>0</td>\n",
       "      <td>0</td>\n",
       "      <td>0</td>\n",
       "      <td>0</td>\n",
       "      <td>0</td>\n",
       "    </tr>\n",
       "    <tr>\n",
       "      <th>2</th>\n",
       "      <td>0</td>\n",
       "      <td>0</td>\n",
       "      <td>0</td>\n",
       "      <td>0</td>\n",
       "      <td>0</td>\n",
       "      <td>0</td>\n",
       "    </tr>\n",
       "    <tr>\n",
       "      <th>3</th>\n",
       "      <td>0</td>\n",
       "      <td>0</td>\n",
       "      <td>0</td>\n",
       "      <td>0</td>\n",
       "      <td>0</td>\n",
       "      <td>0</td>\n",
       "    </tr>\n",
       "    <tr>\n",
       "      <th>4</th>\n",
       "      <td>0</td>\n",
       "      <td>0</td>\n",
       "      <td>0</td>\n",
       "      <td>0</td>\n",
       "      <td>0</td>\n",
       "      <td>0</td>\n",
       "    </tr>\n",
       "    <tr>\n",
       "      <th>...</th>\n",
       "      <td>...</td>\n",
       "      <td>...</td>\n",
       "      <td>...</td>\n",
       "      <td>...</td>\n",
       "      <td>...</td>\n",
       "      <td>...</td>\n",
       "    </tr>\n",
       "    <tr>\n",
       "      <th>159566</th>\n",
       "      <td>0</td>\n",
       "      <td>0</td>\n",
       "      <td>0</td>\n",
       "      <td>0</td>\n",
       "      <td>0</td>\n",
       "      <td>0</td>\n",
       "    </tr>\n",
       "    <tr>\n",
       "      <th>159567</th>\n",
       "      <td>0</td>\n",
       "      <td>0</td>\n",
       "      <td>0</td>\n",
       "      <td>0</td>\n",
       "      <td>0</td>\n",
       "      <td>0</td>\n",
       "    </tr>\n",
       "    <tr>\n",
       "      <th>159568</th>\n",
       "      <td>0</td>\n",
       "      <td>0</td>\n",
       "      <td>0</td>\n",
       "      <td>0</td>\n",
       "      <td>0</td>\n",
       "      <td>0</td>\n",
       "    </tr>\n",
       "    <tr>\n",
       "      <th>159569</th>\n",
       "      <td>0</td>\n",
       "      <td>0</td>\n",
       "      <td>0</td>\n",
       "      <td>0</td>\n",
       "      <td>0</td>\n",
       "      <td>0</td>\n",
       "    </tr>\n",
       "    <tr>\n",
       "      <th>159570</th>\n",
       "      <td>0</td>\n",
       "      <td>0</td>\n",
       "      <td>0</td>\n",
       "      <td>0</td>\n",
       "      <td>0</td>\n",
       "      <td>0</td>\n",
       "    </tr>\n",
       "  </tbody>\n",
       "</table>\n",
       "<p>159571 rows × 6 columns</p>\n",
       "</div>"
      ],
      "text/plain": [
       "        toxic  severe_toxic  obscene  threat  insult  identity_hate\n",
       "0           0             0        0       0       0              0\n",
       "1           0             0        0       0       0              0\n",
       "2           0             0        0       0       0              0\n",
       "3           0             0        0       0       0              0\n",
       "4           0             0        0       0       0              0\n",
       "...       ...           ...      ...     ...     ...            ...\n",
       "159566      0             0        0       0       0              0\n",
       "159567      0             0        0       0       0              0\n",
       "159568      0             0        0       0       0              0\n",
       "159569      0             0        0       0       0              0\n",
       "159570      0             0        0       0       0              0\n",
       "\n",
       "[159571 rows x 6 columns]"
      ]
     },
     "execution_count": 25,
     "metadata": {},
     "output_type": "execute_result"
    }
   ],
   "source": [
    "y_train"
   ]
  },
  {
   "cell_type": "code",
   "execution_count": 26,
   "id": "4wQ_KlBqzJ0b",
   "metadata": {
    "id": "4wQ_KlBqzJ0b"
   },
   "outputs": [],
   "source": [
    "# join the feature and outcomes\n",
    "df_train = pd.concat([x_train,y_train], axis=1)"
   ]
  },
  {
   "cell_type": "code",
   "execution_count": 39,
   "id": "zZuHoJFdrOjW",
   "metadata": {
    "colab": {
     "base_uri": "https://localhost:8080/",
     "height": 206
    },
    "id": "zZuHoJFdrOjW",
    "outputId": "1f73d11a-bc61-45d5-e9ca-1f54c9d416d6"
   },
   "outputs": [
    {
     "data": {
      "text/html": [
       "<div>\n",
       "<style scoped>\n",
       "    .dataframe tbody tr th:only-of-type {\n",
       "        vertical-align: middle;\n",
       "    }\n",
       "\n",
       "    .dataframe tbody tr th {\n",
       "        vertical-align: top;\n",
       "    }\n",
       "\n",
       "    .dataframe thead th {\n",
       "        text-align: right;\n",
       "    }\n",
       "</style>\n",
       "<table border=\"1\" class=\"dataframe\">\n",
       "  <thead>\n",
       "    <tr style=\"text-align: right;\">\n",
       "      <th></th>\n",
       "      <th>comment_text</th>\n",
       "      <th>clean_text</th>\n",
       "      <th>toxic</th>\n",
       "      <th>severe_toxic</th>\n",
       "      <th>obscene</th>\n",
       "      <th>threat</th>\n",
       "      <th>insult</th>\n",
       "      <th>identity_hate</th>\n",
       "    </tr>\n",
       "  </thead>\n",
       "  <tbody>\n",
       "    <tr>\n",
       "      <th>0</th>\n",
       "      <td>Explanation\\nWhy the edits made under my usern...</td>\n",
       "      <td>explanation edit username hardcore fan revert ...</td>\n",
       "      <td>0</td>\n",
       "      <td>0</td>\n",
       "      <td>0</td>\n",
       "      <td>0</td>\n",
       "      <td>0</td>\n",
       "      <td>0</td>\n",
       "    </tr>\n",
       "    <tr>\n",
       "      <th>1</th>\n",
       "      <td>D'aww! He matches this background colour I'm s...</td>\n",
       "      <td>match background colour m seemingly stuck than...</td>\n",
       "      <td>0</td>\n",
       "      <td>0</td>\n",
       "      <td>0</td>\n",
       "      <td>0</td>\n",
       "      <td>0</td>\n",
       "      <td>0</td>\n",
       "    </tr>\n",
       "    <tr>\n",
       "      <th>2</th>\n",
       "      <td>Hey man, I'm really not trying to edit war. It...</td>\n",
       "      <td>hey man m try edit war guy constantly remove r...</td>\n",
       "      <td>0</td>\n",
       "      <td>0</td>\n",
       "      <td>0</td>\n",
       "      <td>0</td>\n",
       "      <td>0</td>\n",
       "      <td>0</td>\n",
       "    </tr>\n",
       "    <tr>\n",
       "      <th>3</th>\n",
       "      <td>\"\\nMore\\nI can't make any real suggestions on ...</td>\n",
       "      <td>not real suggestion improvement wonder section...</td>\n",
       "      <td>0</td>\n",
       "      <td>0</td>\n",
       "      <td>0</td>\n",
       "      <td>0</td>\n",
       "      <td>0</td>\n",
       "      <td>0</td>\n",
       "    </tr>\n",
       "    <tr>\n",
       "      <th>4</th>\n",
       "      <td>You, sir, are my hero. Any chance you remember...</td>\n",
       "      <td>sir hero chance remember page s</td>\n",
       "      <td>0</td>\n",
       "      <td>0</td>\n",
       "      <td>0</td>\n",
       "      <td>0</td>\n",
       "      <td>0</td>\n",
       "      <td>0</td>\n",
       "    </tr>\n",
       "  </tbody>\n",
       "</table>\n",
       "</div>"
      ],
      "text/plain": [
       "                                        comment_text  \\\n",
       "0  Explanation\\nWhy the edits made under my usern...   \n",
       "1  D'aww! He matches this background colour I'm s...   \n",
       "2  Hey man, I'm really not trying to edit war. It...   \n",
       "3  \"\\nMore\\nI can't make any real suggestions on ...   \n",
       "4  You, sir, are my hero. Any chance you remember...   \n",
       "\n",
       "                                          clean_text  toxic  severe_toxic  \\\n",
       "0  explanation edit username hardcore fan revert ...      0             0   \n",
       "1  match background colour m seemingly stuck than...      0             0   \n",
       "2  hey man m try edit war guy constantly remove r...      0             0   \n",
       "3  not real suggestion improvement wonder section...      0             0   \n",
       "4                    sir hero chance remember page s      0             0   \n",
       "\n",
       "   obscene  threat  insult  identity_hate  \n",
       "0        0       0       0              0  \n",
       "1        0       0       0              0  \n",
       "2        0       0       0              0  \n",
       "3        0       0       0              0  \n",
       "4        0       0       0              0  "
      ]
     },
     "execution_count": 39,
     "metadata": {},
     "output_type": "execute_result"
    }
   ],
   "source": [
    "df_train.head()"
   ]
  },
  {
   "cell_type": "markdown",
   "id": "28bf99d8-d0ec-451d-b8d3-e3fe15f9d9f4",
   "metadata": {},
   "source": [
    "### Split the training data into training and validation set"
   ]
  },
  {
   "cell_type": "code",
   "execution_count": 40,
   "id": "4ec3e8c6-7bfe-49de-bd51-c7352726e222",
   "metadata": {},
   "outputs": [],
   "source": [
    "# Split into train and validation\n",
    "df_train,df_val = train_test_split(df_train,test_size=0.2)"
   ]
  },
  {
   "cell_type": "code",
   "execution_count": 64,
   "id": "2700bb86-8d3a-4b35-ba6d-77bbd7e809d3",
   "metadata": {},
   "outputs": [
    {
     "data": {
      "text/plain": [
       "(127656, 8)"
      ]
     },
     "execution_count": 64,
     "metadata": {},
     "output_type": "execute_result"
    }
   ],
   "source": [
    "df_train.shape"
   ]
  },
  {
   "cell_type": "markdown",
   "id": "fe704db0-22ea-490d-902c-81606ad77664",
   "metadata": {},
   "source": [
    "### Create a Dataset and a Dataloader"
   ]
  },
  {
   "cell_type": "code",
   "execution_count": 41,
   "id": "lSPehXUhv3Jy",
   "metadata": {
    "id": "lSPehXUhv3Jy"
   },
   "outputs": [],
   "source": [
    "class commentDataset(Dataset):\n",
    "    def __init__(self, df, word_dict, max_length):\n",
    "        self.df = df\n",
    "        self.word_dict = word_dict\n",
    "        self.max_len = max_length\n",
    "    \n",
    "    def __len__(self):\n",
    "        return len(self.df)\n",
    "    \n",
    "    def __getitem__(self, idx):\n",
    "        row = self.df.iloc[idx]\n",
    "        headline = row['clean_text'].split()\n",
    "        x = torch.zeros(self.max_len)\n",
    "        \n",
    "        # get headline as a list of integers\n",
    "        for idx in range(len(headline)):\n",
    "            \n",
    "            # we want to front pad for RNN\n",
    "            x[self.max_len - len(headline) + idx] = self.word_dict[headline[idx]]\n",
    "            \n",
    "        y = torch.tensor(row[outcome]).float()\n",
    "        \n",
    "        # embedding likes long tensors\n",
    "        return x.long(), y\n",
    "    \n",
    "max_length = 200\n",
    "ds = commentDataset(df_train, word_dict, max_length)\n",
    "#next(iter(ds))"
   ]
  },
  {
   "cell_type": "code",
   "execution_count": 42,
   "id": "484e5d0a-d1d8-4c2d-bc4b-88d76146d3e8",
   "metadata": {},
   "outputs": [],
   "source": [
    "ds_val = commentDataset(df_val, word_dict, max_length=150)\n",
    "dl_val = DataLoader(ds_val, batch_size=1000, shuffle=False)"
   ]
  },
  {
   "cell_type": "code",
   "execution_count": 43,
   "id": "-Zf6ZCKG1tCJ",
   "metadata": {
    "id": "-Zf6ZCKG1tCJ"
   },
   "outputs": [],
   "source": [
    "dl = DataLoader(ds, batch_size=100, shuffle=True)\n",
    "x, y = next(iter(dl))"
   ]
  },
  {
   "cell_type": "code",
   "execution_count": 44,
   "id": "f1710a65-1bc1-4fe7-a39e-c9bdb1b8c94b",
   "metadata": {},
   "outputs": [
    {
     "data": {
      "text/plain": [
       "torch.Size([100, 200])"
      ]
     },
     "execution_count": 44,
     "metadata": {},
     "output_type": "execute_result"
    }
   ],
   "source": [
    "x.shape"
   ]
  },
  {
   "cell_type": "code",
   "execution_count": 45,
   "id": "6b22743f-1b0d-436f-b2fc-e050b9f5a90e",
   "metadata": {},
   "outputs": [],
   "source": [
    "ds = commentDataset(df_train, word_dict, max_length)\n",
    "dl = DataLoader(ds, batch_size=100, shuffle=True)"
   ]
  },
  {
   "cell_type": "markdown",
   "id": "9f243745-5762-48b6-a557-efa96b5fe0fe",
   "metadata": {},
   "source": [
    "### LSTM model "
   ]
  },
  {
   "cell_type": "code",
   "execution_count": 60,
   "id": "uG_xFZQ_3k65",
   "metadata": {
    "colab": {
     "base_uri": "https://localhost:8080/"
    },
    "id": "uG_xFZQ_3k65",
    "outputId": "3f81cec0-a0fc-4aa1-e9af-0f84e71d607f"
   },
   "outputs": [
    {
     "data": {
      "text/plain": [
       "torch.Size([100, 6])"
      ]
     },
     "execution_count": 60,
     "metadata": {},
     "output_type": "execute_result"
    }
   ],
   "source": [
    "## Using a LSTM model\n",
    "# train the embedding during training\n",
    "class LSTM(nn.Module):\n",
    "    def __init__(self, dict_length, embedding_size,hidden_size):\n",
    "        super(LSTM, self).__init__()\n",
    "        # padding index turns off gradient for unknown tokens\n",
    "        self.word_emb = nn.Embedding(dict_length, embedding_size, padding_idx=0)\n",
    "        self.hidden_size = hidden_size\n",
    "        self.lstm = nn.LSTM(input_size=embedding_size, hidden_size=hidden_size, batch_first=True)\n",
    "        self.linear = nn.Linear(hidden_size, 6)\n",
    "        \n",
    "        \n",
    "    def forward(self, x):\n",
    "        x = self.word_emb(x)\n",
    "        out = self.lstm(x)[1][-1]\n",
    "        out = self.linear(out)\n",
    "    \n",
    "        return torch.squeeze(out)\n",
    "\n",
    "x, y = next(iter(dl))\n",
    "lstm_model = LSTM(dict_length, 100,10)\n",
    "lstm_model(x).shape"
   ]
  },
  {
   "cell_type": "code",
   "execution_count": 61,
   "id": "40a62f8c-4244-4792-9f0c-db0c0ecc8ad7",
   "metadata": {},
   "outputs": [],
   "source": [
    "def one_pass(model, dataloader, optimizer, lossFun, backwards=True, print_loss=False):\n",
    "    \n",
    "    if backwards == True:\n",
    "        model.train()\n",
    "    else:\n",
    "        model.eval()\n",
    "    \n",
    "    total_loss = 0.0\n",
    "    for x, y in tqdm(dataloader):\n",
    "        \n",
    "        y_pred = model(x)\n",
    "        \n",
    "        loss = lossFun(y_pred, y)\n",
    "        #loss = (loss * weights).mean()\n",
    "        total_loss += loss.item()\n",
    "        \n",
    "        if backwards == True:\n",
    "            optimizer.zero_grad()\n",
    "            loss.backward()\n",
    "            optimizer.step()\n",
    "    avg_loss = total_loss / len(dataloader)\n",
    "    \n",
    "    if print_loss == True:\n",
    "        print(avg_loss)\n",
    "    \n",
    "    return avg_loss\n",
    "\n",
    "def one_pass_acc(model, dataloader, num_points):\n",
    "    model.eval()\n",
    "    y_true = []\n",
    "    y_pred = []\n",
    "    \n",
    "    for x, y in dataloader:\n",
    "        y_pred.append((torch.sigmoid(model(x)) > 0.5).float().detach())\n",
    "        y_true.append(y.detach())\n",
    "    \n",
    "    y_pred = torch.tensor(np.concatenate(y_pred))\n",
    "    y_true = torch.tensor(np.concatenate(y_true))\n",
    "    print(y_pred.shape)    \n",
    "        \n",
    "    acc = accuracy_score(y_true, y_pred)\n",
    "    f1_score_micro = f1_score(y_true, y_pred, average='micro')\n",
    "    f1_score_macro = f1_score(y_true, y_pred, average='macro')\n",
    "    \n",
    "\n",
    "    return acc,f1_score_micro,f1_score_macro"
   ]
  },
  {
   "cell_type": "code",
   "execution_count": 63,
   "id": "ca46f7c4-484a-46c9-bdcf-7f532219ab11",
   "metadata": {},
   "outputs": [
    {
     "data": {
      "application/vnd.jupyter.widget-view+json": {
       "model_id": "4de8414b35c448709a2738f880a1326b",
       "version_major": 2,
       "version_minor": 0
      },
      "text/plain": [
       "  0%|          | 0/6 [00:00<?, ?it/s]"
      ]
     },
     "metadata": {},
     "output_type": "display_data"
    },
    {
     "name": "stdout",
     "output_type": "stream",
     "text": [
      "Epoch:  0\n"
     ]
    },
    {
     "data": {
      "application/vnd.jupyter.widget-view+json": {
       "model_id": "4ac2b2598cb943c6966e4acbe97194a0",
       "version_major": 2,
       "version_minor": 0
      },
      "text/plain": [
       "  0%|          | 0/1277 [00:00<?, ?it/s]"
      ]
     },
     "metadata": {},
     "output_type": "display_data"
    },
    {
     "name": "stdout",
     "output_type": "stream",
     "text": [
      "Loss:  0.07478479687897555\n",
      "torch.Size([127656, 6])\n",
      "training Accuracy:  0.917794698251551\n",
      "training f1_score_micro:  0.6917681340410032\n",
      "training f1_score_macro:  0.43193735969369434\n",
      "torch.Size([31915, 6])\n",
      "validation Accuracy::  0.913551621494595\n",
      "validation f1_score_micro:  0.676319018404908\n",
      "validation f1_score_macro:  0.41601255572650886\n",
      "Epoch:  1\n"
     ]
    },
    {
     "data": {
      "application/vnd.jupyter.widget-view+json": {
       "model_id": "9934c302cba1438a8359f657e5e31d8c",
       "version_major": 2,
       "version_minor": 0
      },
      "text/plain": [
       "  0%|          | 0/1277 [00:00<?, ?it/s]"
      ]
     },
     "metadata": {},
     "output_type": "display_data"
    },
    {
     "name": "stdout",
     "output_type": "stream",
     "text": [
      "Loss:  0.05601634983098778\n",
      "torch.Size([127656, 6])\n",
      "training Accuracy:  0.9205521087923795\n",
      "training f1_score_micro:  0.702604353989041\n",
      "training f1_score_macro:  0.47161863145240374\n",
      "torch.Size([31915, 6])\n",
      "validation Accuracy::  0.9138336205545982\n",
      "validation f1_score_micro:  0.6695933073801044\n",
      "validation f1_score_macro:  0.44199928190296456\n",
      "Epoch:  2\n"
     ]
    },
    {
     "data": {
      "application/vnd.jupyter.widget-view+json": {
       "model_id": "5433c7d7cbaa490cbc00302e62a9a41f",
       "version_major": 2,
       "version_minor": 0
      },
      "text/plain": [
       "  0%|          | 0/1277 [00:00<?, ?it/s]"
      ]
     },
     "metadata": {},
     "output_type": "display_data"
    },
    {
     "name": "stdout",
     "output_type": "stream",
     "text": [
      "Loss:  0.053689061164470885\n",
      "torch.Size([127656, 6])\n",
      "training Accuracy:  0.9183038791752836\n",
      "training f1_score_micro:  0.7179143858543694\n",
      "training f1_score_macro:  0.5167093904032253\n",
      "torch.Size([31915, 6])\n",
      "validation Accuracy::  0.9095723014256619\n",
      "validation f1_score_micro:  0.674835207444746\n",
      "validation f1_score_macro:  0.4606955115653457\n",
      "Epoch:  3\n"
     ]
    },
    {
     "data": {
      "application/vnd.jupyter.widget-view+json": {
       "model_id": "0232e49423034ce4861baa34dc0ae2c0",
       "version_major": 2,
       "version_minor": 0
      },
      "text/plain": [
       "  0%|          | 0/1277 [00:00<?, ?it/s]"
      ]
     },
     "metadata": {},
     "output_type": "display_data"
    },
    {
     "name": "stdout",
     "output_type": "stream",
     "text": [
      "Loss:  0.050867401445598086\n",
      "torch.Size([127656, 6])\n",
      "training Accuracy:  0.9241320423638528\n",
      "training f1_score_micro:  0.7333456206098585\n",
      "training f1_score_macro:  0.5018937070621435\n",
      "torch.Size([31915, 6])\n",
      "validation Accuracy::  0.9122982923390255\n",
      "validation f1_score_micro:  0.6767269205939316\n",
      "validation f1_score_macro:  0.43677895588356147\n",
      "Epoch:  4\n"
     ]
    },
    {
     "data": {
      "application/vnd.jupyter.widget-view+json": {
       "model_id": "b44c353eb9ef406a8090f16b8ca49acf",
       "version_major": 2,
       "version_minor": 0
      },
      "text/plain": [
       "  0%|          | 0/1277 [00:00<?, ?it/s]"
      ]
     },
     "metadata": {},
     "output_type": "display_data"
    },
    {
     "name": "stdout",
     "output_type": "stream",
     "text": [
      "Loss:  0.04801622119432457\n",
      "torch.Size([127656, 6])\n",
      "training Accuracy:  0.9266857805351884\n",
      "training f1_score_micro:  0.7537933237501996\n",
      "training f1_score_macro:  0.5382041804225907\n",
      "torch.Size([31915, 6])\n",
      "validation Accuracy::  0.9106689644367852\n",
      "validation f1_score_micro:  0.6754302103250478\n",
      "validation f1_score_macro:  0.44436849493653713\n",
      "Epoch:  5\n"
     ]
    },
    {
     "data": {
      "application/vnd.jupyter.widget-view+json": {
       "model_id": "340184d6864249af901d4ac83b34d10d",
       "version_major": 2,
       "version_minor": 0
      },
      "text/plain": [
       "  0%|          | 0/1277 [00:00<?, ?it/s]"
      ]
     },
     "metadata": {},
     "output_type": "display_data"
    },
    {
     "name": "stdout",
     "output_type": "stream",
     "text": [
      "Loss:  0.046566605485156\n",
      "torch.Size([127656, 6])\n",
      "training Accuracy:  0.9276728081719622\n",
      "training f1_score_micro:  0.770398839465702\n",
      "training f1_score_macro:  0.5423216208434484\n",
      "torch.Size([31915, 6])\n",
      "validation Accuracy::  0.9092276359078804\n",
      "validation f1_score_micro:  0.6885123535119803\n",
      "validation f1_score_macro:  0.4566512932537948\n"
     ]
    }
   ],
   "source": [
    "lstm_model = LSTM(dict_length, 100,10)\n",
    "lossFun = nn.BCEWithLogitsLoss()\n",
    "optimizer = optim.Adam(lstm_model.parameters(), lr = 0.01)\n",
    "\n",
    "num_epochs = 6\n",
    "\n",
    "for epoch in tqdm(range(num_epochs)):\n",
    "    print('Epoch: ', epoch)\n",
    "    \n",
    "    loss = one_pass(lstm_model, dl, optimizer, lossFun)\n",
    "    print('Loss: ', loss)\n",
    "    \n",
    "    acc, f1_score_micro, f1_score_macro = one_pass_acc(lstm_model, dl, len(ds))\n",
    "    print('training Accuracy: ', acc)\n",
    "    print('training f1_score_micro: ',f1_score_micro)\n",
    "    print('training f1_score_macro: ',f1_score_macro)\n",
    "    \n",
    "    acc, f1_score_micro, f1_score_macro= one_pass_acc(lstm_model, dl_val, len(ds_val))\n",
    "    print('validation Accuracy:: ', acc)\n",
    "    print('validation f1_score_micro: ',f1_score_micro)\n",
    "    print('validation f1_score_macro: ',f1_score_macro)\n"
   ]
  },
  {
   "cell_type": "markdown",
   "id": "f8303acc-0af2-4318-bd9f-1f3415b7c3c3",
   "metadata": {},
   "source": [
    "### Training with weights to manage the data imbalance\n",
    "\n",
    "\n"
   ]
  },
  {
   "cell_type": "code",
   "execution_count": null,
   "id": "4071d6b2-f3b3-4ed6-bd7c-5bf51e00caeb",
   "metadata": {},
   "outputs": [],
   "source": [
    "# Macro f1 score improved with giving weights to the class imbalance\n",
    "# Macro f1 score: It treats all classes equally and is the mean of f1 score of individual classes,\n",
    "# this is more appropriate for class imbalance data sets\n",
    "# Micro is the global average f1 score where the dominance classes will have higher influence."
   ]
  },
  {
   "cell_type": "code",
   "execution_count": null,
   "id": "885c3d09-e27a-4009-a117-8637d6ed5c1d",
   "metadata": {},
   "outputs": [],
   "source": [
    "# Let us test the performance of our model on some comments\n",
    "test_comment = df_test['comment_text'][-1:].values[0]"
   ]
  },
  {
   "cell_type": "code",
   "execution_count": null,
   "id": "6ff54df6-3bd2-4695-8d7f-8a21c9496f98",
   "metadata": {},
   "outputs": [],
   "source": [
    "def classify(text, model):\n",
    "    text = clean(text)\n",
    "    text = ' '.join([token for token in text.split() if word_dict.get(token, 0)!= 0])\n",
    "    max_len = 200\n",
    "    x = torch.zeros(max_len)\n",
    "    headline = text.split()\n",
    "    for idx in range(len(headline)):\n",
    "        x[max_len - len(headline) + idx] = word_dict[headline[idx]]\n",
    "    x = x.reshape(1,200)\n",
    "    x = x.long()\n",
    "    y_pred = (torch.sigmoid(model(x)) > 0.5).float().detach()\n",
    "    result = []\n",
    "    i=0\n",
    "    for label in y_pred:\n",
    "        if label==1:\n",
    "            result.append(outcome[i])\n",
    "        i+=1\n",
    "    return result"
   ]
  },
  {
   "cell_type": "code",
   "execution_count": 402,
   "id": "a0c205fa-6e09-43b2-8aad-719fd8aa575e",
   "metadata": {},
   "outputs": [
    {
     "data": {
      "text/plain": [
       "'Hi how are you'"
      ]
     },
     "execution_count": 402,
     "metadata": {},
     "output_type": "execute_result"
    }
   ],
   "source": [
    "test_comment"
   ]
  },
  {
   "cell_type": "code",
   "execution_count": 403,
   "id": "4d3cf37b-39bb-4d6b-bcf7-dab1411511a4",
   "metadata": {},
   "outputs": [
    {
     "name": "stdout",
     "output_type": "stream",
     "text": [
      "[]\n"
     ]
    }
   ],
   "source": [
    "print(classify(test_comment, lstm_model3))"
   ]
  },
  {
   "cell_type": "code",
   "execution_count": 407,
   "id": "af9d9cba-09cb-4df1-bcd8-753d6d45159d",
   "metadata": {},
   "outputs": [],
   "source": [
    "test_comment = \"\"\"Today, the Supreme Court not only reversed nearly 50 years of precedent, \n",
    "it relegated the most intensely personal decision someone can make to the whims of politicians \n",
    "and ideologues—attacking the essential freedoms of millions of Americans.\"\"\""
   ]
  },
  {
   "cell_type": "code",
   "execution_count": 408,
   "id": "dc67bbec-4125-460b-ab52-c11e33bd8c8d",
   "metadata": {},
   "outputs": [
    {
     "name": "stdout",
     "output_type": "stream",
     "text": [
      "Today, the Supreme Court not only reversed nearly 50 years of precedent, \n",
      "it relegated the most intensely personal decision someone can make to the whims of politicians \n",
      "and ideologues—attacking the essential freedoms of millions of Americans.\n",
      "[]\n"
     ]
    }
   ],
   "source": [
    "print(test_comment)\n",
    "print(classify(test_comment, lstm_model3))"
   ]
  },
  {
   "cell_type": "code",
   "execution_count": null,
   "id": "683be3fc-6b6f-4b4c-b5d0-03a782ff82ec",
   "metadata": {},
   "outputs": [],
   "source": [
    "## Different way of weighing the classes\n"
   ]
  },
  {
   "cell_type": "code",
   "execution_count": 386,
   "id": "02864f9c-f687-4328-ad25-0c94cb8999e1",
   "metadata": {},
   "outputs": [
    {
     "data": {
      "text/plain": [
       "Index(['comment_text', 'clean_text', 'toxic', 'severe_toxic', 'obscene',\n",
       "       'threat', 'insult', 'identity_hate'],\n",
       "      dtype='object')"
      ]
     },
     "execution_count": 386,
     "metadata": {},
     "output_type": "execute_result"
    }
   ],
   "source": [
    "df_train.columns"
   ]
  },
  {
   "cell_type": "code",
   "execution_count": 56,
   "id": "1d7764ea-3f7c-4d3d-a05e-e69f96cfcc7a",
   "metadata": {},
   "outputs": [],
   "source": [
    "y = df_train[outcome].values\n",
    "pos_weight = (y==0).sum(axis=0) / y.sum(axis=0)\n",
    "pos_weight = torch.Tensor(pos_weight)\n",
    "lossFun = nn.BCEWithLogitsLoss(weight = pos_weight)"
   ]
  },
  {
   "cell_type": "code",
   "execution_count": 57,
   "id": "3da176d9-ec1f-468a-8e59-d711518f7b12",
   "metadata": {},
   "outputs": [
    {
     "data": {
      "text/plain": [
       "tensor([  9.4885,  99.7545,  18.0588, 328.0103,  19.2436, 112.7754])"
      ]
     },
     "execution_count": 57,
     "metadata": {},
     "output_type": "execute_result"
    }
   ],
   "source": [
    "pos_weight"
   ]
  },
  {
   "cell_type": "code",
   "execution_count": 58,
   "id": "0fb4f116-55aa-458c-a81d-573096065448",
   "metadata": {},
   "outputs": [],
   "source": [
    "def one_pass(model, dataloader, optimizer, lossFun, backwards=True, print_loss=False):\n",
    "    \n",
    "    if backwards == True:\n",
    "        model.train()\n",
    "    else:\n",
    "        model.eval()\n",
    "    \n",
    "    total_loss = 0.0\n",
    "    for x, y in tqdm(dataloader):\n",
    "        \n",
    "        y_pred = model(x)\n",
    "        \n",
    "        loss = lossFun(y_pred, y)\n",
    "        \n",
    "        total_loss += loss.item()\n",
    "        \n",
    "        if backwards == True:\n",
    "            optimizer.zero_grad()\n",
    "            loss.backward()\n",
    "            optimizer.step()\n",
    "    avg_loss = total_loss / len(dataloader)\n",
    "    \n",
    "    if print_loss == True:\n",
    "        print(avg_loss)\n",
    "    \n",
    "    return avg_loss\n",
    "\n",
    "def one_pass_acc(model, dataloader, num_points):\n",
    "    model.eval()\n",
    "    y_true = []\n",
    "    y_pred = []\n",
    "    \n",
    "    for x, y in dataloader:\n",
    "        y_pred.append((torch.sigmoid(model(x)) > 0.5).float().detach())\n",
    "        y_true.append(y.detach())\n",
    "    \n",
    "    y_pred = torch.tensor(np.concatenate(y_pred))\n",
    "    y_true = torch.tensor(np.concatenate(y_true))\n",
    "    print(y_pred.shape)    \n",
    "        \n",
    "    acc = accuracy_score(y_true, y_pred)\n",
    "    f1_score_micro = f1_score(y_true, y_pred, average='micro')\n",
    "    f1_score_macro = f1_score(y_true, y_pred, average='macro')\n",
    "    \n",
    "\n",
    "    return acc,f1_score_micro,f1_score_macro"
   ]
  },
  {
   "cell_type": "code",
   "execution_count": 59,
   "id": "3f9e92bd-8f63-479b-9567-d3ad408ca37c",
   "metadata": {},
   "outputs": [
    {
     "data": {
      "application/vnd.jupyter.widget-view+json": {
       "model_id": "408bb030feb94165bbfd2f6dad9f4710",
       "version_major": 2,
       "version_minor": 0
      },
      "text/plain": [
       "  0%|          | 0/6 [00:00<?, ?it/s]"
      ]
     },
     "metadata": {},
     "output_type": "display_data"
    },
    {
     "name": "stdout",
     "output_type": "stream",
     "text": [
      "Epoch:  0\n"
     ]
    },
    {
     "data": {
      "application/vnd.jupyter.widget-view+json": {
       "model_id": "6ae172147c3849a9a8ba78949a3e3092",
       "version_major": 2,
       "version_minor": 0
      },
      "text/plain": [
       "  0%|          | 0/1277 [00:00<?, ?it/s]"
      ]
     },
     "metadata": {},
     "output_type": "display_data"
    },
    {
     "name": "stdout",
     "output_type": "stream",
     "text": [
      "Loss:  3.3734889487876685\n",
      "torch.Size([127656, 6])\n",
      "training Accuracy:  0.9151861252115059\n",
      "training f1_score_micro:  0.6736715576556412\n",
      "training f1_score_macro:  0.4591343512635801\n",
      "torch.Size([31915, 6])\n",
      "validation Accuracy::  0.9103242989190036\n",
      "validation f1_score_micro:  0.6583326568714992\n",
      "validation f1_score_macro:  0.4192648080582131\n",
      "Epoch:  1\n"
     ]
    },
    {
     "data": {
      "application/vnd.jupyter.widget-view+json": {
       "model_id": "f416ed8af9274087974a33bb5681e486",
       "version_major": 2,
       "version_minor": 0
      },
      "text/plain": [
       "  0%|          | 0/1277 [00:00<?, ?it/s]"
      ]
     },
     "metadata": {},
     "output_type": "display_data"
    },
    {
     "name": "stdout",
     "output_type": "stream",
     "text": [
      "Loss:  2.1822491134097546\n",
      "torch.Size([127656, 6])\n",
      "training Accuracy:  0.9164316600864825\n",
      "training f1_score_micro:  0.6892979487391142\n",
      "training f1_score_macro:  0.517584420167854\n",
      "torch.Size([31915, 6])\n",
      "validation Accuracy::  0.9104809650634498\n",
      "validation f1_score_micro:  0.6651151592970067\n",
      "validation f1_score_macro:  0.43117262975880943\n",
      "Epoch:  2\n"
     ]
    },
    {
     "data": {
      "application/vnd.jupyter.widget-view+json": {
       "model_id": "7cfeb604d3784c93ae16b4f7242cb495",
       "version_major": 2,
       "version_minor": 0
      },
      "text/plain": [
       "  0%|          | 0/1277 [00:00<?, ?it/s]"
      ]
     },
     "metadata": {},
     "output_type": "display_data"
    },
    {
     "name": "stdout",
     "output_type": "stream",
     "text": [
      "Loss:  1.9638240349507463\n",
      "torch.Size([127656, 6])\n",
      "training Accuracy:  0.916165319295607\n",
      "training f1_score_micro:  0.7020234722784298\n",
      "training f1_score_macro:  0.5679043624432561\n",
      "torch.Size([31915, 6])\n",
      "validation Accuracy::  0.9103869653767821\n",
      "validation f1_score_micro:  0.668308181096108\n",
      "validation f1_score_macro:  0.46703841113863215\n",
      "Epoch:  3\n"
     ]
    },
    {
     "data": {
      "application/vnd.jupyter.widget-view+json": {
       "model_id": "ca3d21cd7ef542fab7870948a03a0de4",
       "version_major": 2,
       "version_minor": 0
      },
      "text/plain": [
       "  0%|          | 0/1277 [00:00<?, ?it/s]"
      ]
     },
     "metadata": {},
     "output_type": "display_data"
    },
    {
     "name": "stdout",
     "output_type": "stream",
     "text": [
      "Loss:  1.8388008999703167\n",
      "torch.Size([127656, 6])\n",
      "training Accuracy:  0.9161026508742245\n",
      "training f1_score_micro:  0.6923060914445069\n",
      "training f1_score_macro:  0.5760067659614987\n",
      "torch.Size([31915, 6])\n",
      "validation Accuracy::  0.9086009713300955\n",
      "validation f1_score_micro:  0.6517754868270332\n",
      "validation f1_score_macro:  0.4513127252761709\n",
      "Epoch:  4\n"
     ]
    },
    {
     "data": {
      "application/vnd.jupyter.widget-view+json": {
       "model_id": "1e0fc844cab04d81adcc4c8aafd500cd",
       "version_major": 2,
       "version_minor": 0
      },
      "text/plain": [
       "  0%|          | 0/1277 [00:00<?, ?it/s]"
      ]
     },
     "metadata": {},
     "output_type": "display_data"
    },
    {
     "name": "stdout",
     "output_type": "stream",
     "text": [
      "Loss:  1.7749244489283327\n",
      "torch.Size([127656, 6])\n",
      "training Accuracy:  0.9184370495707214\n",
      "training f1_score_micro:  0.7180368490468007\n",
      "training f1_score_macro:  0.584692909422473\n",
      "torch.Size([31915, 6])\n",
      "validation Accuracy::  0.9091649694501018\n",
      "validation f1_score_micro:  0.6695952306244116\n",
      "validation f1_score_macro:  0.45618656679532993\n",
      "Epoch:  5\n"
     ]
    },
    {
     "data": {
      "application/vnd.jupyter.widget-view+json": {
       "model_id": "7905ad19d41c4f05be807ee3db607f22",
       "version_major": 2,
       "version_minor": 0
      },
      "text/plain": [
       "  0%|          | 0/1277 [00:00<?, ?it/s]"
      ]
     },
     "metadata": {},
     "output_type": "display_data"
    },
    {
     "name": "stdout",
     "output_type": "stream",
     "text": [
      "Loss:  1.7029449267366852\n",
      "torch.Size([127656, 6])\n",
      "training Accuracy:  0.9171366798270352\n",
      "training f1_score_micro:  0.7238883143743536\n",
      "training f1_score_macro:  0.6355067547624659\n",
      "torch.Size([31915, 6])\n",
      "validation Accuracy::  0.9049663167789441\n",
      "validation f1_score_micro:  0.6665131275909719\n",
      "validation f1_score_macro:  0.47814685269105256\n"
     ]
    }
   ],
   "source": [
    "lstm_model3 = LSTM(dict_length, 100,10)\n",
    "#lossFun = nn.BCEWithLogitsLoss(reduction='none')\n",
    "optimizer = optim.Adam(lstm_model3.parameters(), lr = 0.01)\n",
    "\n",
    "num_epochs = 6\n",
    "\n",
    "for epoch in tqdm(range(num_epochs)):\n",
    "    print('Epoch: ', epoch)\n",
    "    \n",
    "    loss = one_pass(lstm_model3, dl, optimizer, lossFun)\n",
    "    print('Loss: ', loss)\n",
    "    \n",
    "    acc, f1_score_micro, f1_score_macro = one_pass_acc(lstm_model3, dl, len(ds))\n",
    "    print('training Accuracy: ', acc)\n",
    "    print('training f1_score_micro: ',f1_score_micro)\n",
    "    print('training f1_score_macro: ',f1_score_macro)\n",
    "    \n",
    "    acc, f1_score_micro, f1_score_macro= one_pass_acc(lstm_model3, dl_val, len(ds_val))\n",
    "    print('validation Accuracy:: ', acc)\n",
    "    print('validation f1_score_micro: ',f1_score_micro)\n",
    "    print('validation f1_score_macro: ',f1_score_macro)\n"
   ]
  },
  {
   "cell_type": "code",
   "execution_count": 66,
   "id": "3c0d7c63-860e-400a-aa5b-dff7ee057fae",
   "metadata": {},
   "outputs": [
    {
     "data": {
      "text/html": [
       "<div>\n",
       "<style scoped>\n",
       "    .dataframe tbody tr th:only-of-type {\n",
       "        vertical-align: middle;\n",
       "    }\n",
       "\n",
       "    .dataframe tbody tr th {\n",
       "        vertical-align: top;\n",
       "    }\n",
       "\n",
       "    .dataframe thead th {\n",
       "        text-align: right;\n",
       "    }\n",
       "</style>\n",
       "<table border=\"1\" class=\"dataframe\">\n",
       "  <thead>\n",
       "    <tr style=\"text-align: right;\">\n",
       "      <th></th>\n",
       "      <th>id</th>\n",
       "      <th>comment_text</th>\n",
       "    </tr>\n",
       "  </thead>\n",
       "  <tbody>\n",
       "    <tr>\n",
       "      <th>0</th>\n",
       "      <td>00001cee341fdb12</td>\n",
       "      <td>Yo bitch Ja Rule is more succesful then you'll...</td>\n",
       "    </tr>\n",
       "    <tr>\n",
       "      <th>1</th>\n",
       "      <td>0000247867823ef7</td>\n",
       "      <td>== From RfC == \\n\\n The title is fine as it is...</td>\n",
       "    </tr>\n",
       "    <tr>\n",
       "      <th>2</th>\n",
       "      <td>00013b17ad220c46</td>\n",
       "      <td>\" \\n\\n == Sources == \\n\\n * Zawe Ashton on Lap...</td>\n",
       "    </tr>\n",
       "    <tr>\n",
       "      <th>3</th>\n",
       "      <td>00017563c3f7919a</td>\n",
       "      <td>:If you have a look back at the source, the in...</td>\n",
       "    </tr>\n",
       "    <tr>\n",
       "      <th>4</th>\n",
       "      <td>00017695ad8997eb</td>\n",
       "      <td>I don't anonymously edit articles at all.</td>\n",
       "    </tr>\n",
       "  </tbody>\n",
       "</table>\n",
       "</div>"
      ],
      "text/plain": [
       "                 id                                       comment_text\n",
       "0  00001cee341fdb12  Yo bitch Ja Rule is more succesful then you'll...\n",
       "1  0000247867823ef7  == From RfC == \\n\\n The title is fine as it is...\n",
       "2  00013b17ad220c46  \" \\n\\n == Sources == \\n\\n * Zawe Ashton on Lap...\n",
       "3  00017563c3f7919a  :If you have a look back at the source, the in...\n",
       "4  00017695ad8997eb          I don't anonymously edit articles at all."
      ]
     },
     "execution_count": 66,
     "metadata": {},
     "output_type": "execute_result"
    }
   ],
   "source": [
    "df_test = pd.read_csv('data/test.csv')\n",
    "df_test.head()"
   ]
  },
  {
   "cell_type": "code",
   "execution_count": null,
   "id": "ad086965-2543-4a2c-8e2b-02a4ee1f6e4e",
   "metadata": {},
   "outputs": [],
   "source": [
    "x_test['clean_text'] = x_test['comment_text'].map(lambda x:clean(x))\n",
    "x_test.to_csv('data/x_test.csv')\n",
    "x_test = pd.read_csv('data/x_test.csv')\n",
    "x_test['clean_text']  = x_test['clean_text'].apply(lambda x: ' '.join([token for token in x.split() if word_dict.get(token, 0)!= 0]))"
   ]
  },
  {
   "cell_type": "code",
   "execution_count": 68,
   "id": "c813209a-581d-4592-bef5-826c4d9f08f6",
   "metadata": {},
   "outputs": [
    {
     "data": {
      "text/plain": [
       "-1    89186\n",
       " 0    57888\n",
       " 1     6090\n",
       "Name: toxic, dtype: int64"
      ]
     },
     "execution_count": 68,
     "metadata": {},
     "output_type": "execute_result"
    }
   ],
   "source": [
    "y_test = pd.read_csv('data/test_labels.csv')\n",
    "y_test['toxic'].value_counts()"
   ]
  },
  {
   "cell_type": "code",
   "execution_count": 69,
   "id": "a6616a99-a90f-4dc5-a83f-94461526cb81",
   "metadata": {},
   "outputs": [
    {
     "data": {
      "text/html": [
       "<div>\n",
       "<style scoped>\n",
       "    .dataframe tbody tr th:only-of-type {\n",
       "        vertical-align: middle;\n",
       "    }\n",
       "\n",
       "    .dataframe tbody tr th {\n",
       "        vertical-align: top;\n",
       "    }\n",
       "\n",
       "    .dataframe thead th {\n",
       "        text-align: right;\n",
       "    }\n",
       "</style>\n",
       "<table border=\"1\" class=\"dataframe\">\n",
       "  <thead>\n",
       "    <tr style=\"text-align: right;\">\n",
       "      <th></th>\n",
       "      <th>Unnamed: 0</th>\n",
       "      <th>id</th>\n",
       "      <th>comment_text</th>\n",
       "      <th>clean_text</th>\n",
       "      <th>toxic</th>\n",
       "      <th>severe_toxic</th>\n",
       "      <th>obscene</th>\n",
       "      <th>threat</th>\n",
       "      <th>insult</th>\n",
       "      <th>identity_hate</th>\n",
       "    </tr>\n",
       "  </thead>\n",
       "  <tbody>\n",
       "    <tr>\n",
       "      <th>0</th>\n",
       "      <td>0</td>\n",
       "      <td>00001cee341fdb12</td>\n",
       "      <td>Yo bitch Ja Rule is more succesful then you'll...</td>\n",
       "      <td>yo bitch ja rule succesful ll s hate sad mofuc...</td>\n",
       "      <td>-1</td>\n",
       "      <td>-1</td>\n",
       "      <td>-1</td>\n",
       "      <td>-1</td>\n",
       "      <td>-1</td>\n",
       "      <td>-1</td>\n",
       "    </tr>\n",
       "    <tr>\n",
       "      <th>1</th>\n",
       "      <td>1</td>\n",
       "      <td>0000247867823ef7</td>\n",
       "      <td>== From RfC == \\n\\n The title is fine as it is...</td>\n",
       "      <td>rfc      title fine imo</td>\n",
       "      <td>-1</td>\n",
       "      <td>-1</td>\n",
       "      <td>-1</td>\n",
       "      <td>-1</td>\n",
       "      <td>-1</td>\n",
       "      <td>-1</td>\n",
       "    </tr>\n",
       "    <tr>\n",
       "      <th>2</th>\n",
       "      <td>2</td>\n",
       "      <td>00013b17ad220c46</td>\n",
       "      <td>\" \\n\\n == Sources == \\n\\n * Zawe Ashton on Lap...</td>\n",
       "      <td>source       zawe ashton lapland</td>\n",
       "      <td>-1</td>\n",
       "      <td>-1</td>\n",
       "      <td>-1</td>\n",
       "      <td>-1</td>\n",
       "      <td>-1</td>\n",
       "      <td>-1</td>\n",
       "    </tr>\n",
       "    <tr>\n",
       "      <th>3</th>\n",
       "      <td>3</td>\n",
       "      <td>00017563c3f7919a</td>\n",
       "      <td>:If you have a look back at the source, the in...</td>\n",
       "      <td>look source information update correct form gu...</td>\n",
       "      <td>-1</td>\n",
       "      <td>-1</td>\n",
       "      <td>-1</td>\n",
       "      <td>-1</td>\n",
       "      <td>-1</td>\n",
       "      <td>-1</td>\n",
       "    </tr>\n",
       "    <tr>\n",
       "      <th>4</th>\n",
       "      <td>4</td>\n",
       "      <td>00017695ad8997eb</td>\n",
       "      <td>I don't anonymously edit articles at all.</td>\n",
       "      <td>not anonymously edit article</td>\n",
       "      <td>-1</td>\n",
       "      <td>-1</td>\n",
       "      <td>-1</td>\n",
       "      <td>-1</td>\n",
       "      <td>-1</td>\n",
       "      <td>-1</td>\n",
       "    </tr>\n",
       "  </tbody>\n",
       "</table>\n",
       "</div>"
      ],
      "text/plain": [
       "   Unnamed: 0                id  \\\n",
       "0           0  00001cee341fdb12   \n",
       "1           1  0000247867823ef7   \n",
       "2           2  00013b17ad220c46   \n",
       "3           3  00017563c3f7919a   \n",
       "4           4  00017695ad8997eb   \n",
       "\n",
       "                                        comment_text  \\\n",
       "0  Yo bitch Ja Rule is more succesful then you'll...   \n",
       "1  == From RfC == \\n\\n The title is fine as it is...   \n",
       "2  \" \\n\\n == Sources == \\n\\n * Zawe Ashton on Lap...   \n",
       "3  :If you have a look back at the source, the in...   \n",
       "4          I don't anonymously edit articles at all.   \n",
       "\n",
       "                                          clean_text  toxic  severe_toxic  \\\n",
       "0  yo bitch ja rule succesful ll s hate sad mofuc...     -1            -1   \n",
       "1                            rfc      title fine imo     -1            -1   \n",
       "2                   source       zawe ashton lapland     -1            -1   \n",
       "3  look source information update correct form gu...     -1            -1   \n",
       "4                       not anonymously edit article     -1            -1   \n",
       "\n",
       "   obscene  threat  insult  identity_hate  \n",
       "0       -1      -1      -1             -1  \n",
       "1       -1      -1      -1             -1  \n",
       "2       -1      -1      -1             -1  \n",
       "3       -1      -1      -1             -1  \n",
       "4       -1      -1      -1             -1  "
      ]
     },
     "execution_count": 69,
     "metadata": {},
     "output_type": "execute_result"
    }
   ],
   "source": [
    "\n",
    "test_df = x_test.merge(y_test, on='id', how='left')\n",
    "\n",
    "test_df.head()"
   ]
  },
  {
   "cell_type": "markdown",
   "id": "266a627b-9c25-49cc-b9b1-e3f83a4a86e1",
   "metadata": {},
   "source": [
    "### Clean the test set and remove the -1 label rows"
   ]
  },
  {
   "cell_type": "code",
   "execution_count": 70,
   "id": "2990a54b-8004-4a15-8b2e-c949055d3ef7",
   "metadata": {},
   "outputs": [
    {
     "data": {
      "text/html": [
       "<div>\n",
       "<style scoped>\n",
       "    .dataframe tbody tr th:only-of-type {\n",
       "        vertical-align: middle;\n",
       "    }\n",
       "\n",
       "    .dataframe tbody tr th {\n",
       "        vertical-align: top;\n",
       "    }\n",
       "\n",
       "    .dataframe thead th {\n",
       "        text-align: right;\n",
       "    }\n",
       "</style>\n",
       "<table border=\"1\" class=\"dataframe\">\n",
       "  <thead>\n",
       "    <tr style=\"text-align: right;\">\n",
       "      <th></th>\n",
       "      <th>Unnamed: 0</th>\n",
       "      <th>id</th>\n",
       "      <th>comment_text</th>\n",
       "      <th>clean_text</th>\n",
       "      <th>toxic</th>\n",
       "      <th>severe_toxic</th>\n",
       "      <th>obscene</th>\n",
       "      <th>threat</th>\n",
       "      <th>insult</th>\n",
       "      <th>identity_hate</th>\n",
       "    </tr>\n",
       "  </thead>\n",
       "  <tbody>\n",
       "    <tr>\n",
       "      <th>5</th>\n",
       "      <td>5</td>\n",
       "      <td>0001ea8717f6de06</td>\n",
       "      <td>Thank you for understanding. I think very high...</td>\n",
       "      <td>thank understanding think highly revert discus...</td>\n",
       "      <td>0</td>\n",
       "      <td>0</td>\n",
       "      <td>0</td>\n",
       "      <td>0</td>\n",
       "      <td>0</td>\n",
       "      <td>0</td>\n",
       "    </tr>\n",
       "    <tr>\n",
       "      <th>7</th>\n",
       "      <td>7</td>\n",
       "      <td>000247e83dcc1211</td>\n",
       "      <td>:Dear god this site is horrible.</td>\n",
       "      <td>dear god site horrible</td>\n",
       "      <td>0</td>\n",
       "      <td>0</td>\n",
       "      <td>0</td>\n",
       "      <td>0</td>\n",
       "      <td>0</td>\n",
       "      <td>0</td>\n",
       "    </tr>\n",
       "    <tr>\n",
       "      <th>11</th>\n",
       "      <td>11</td>\n",
       "      <td>0002f87b16116a7f</td>\n",
       "      <td>\"::: Somebody will invariably try to add Relig...</td>\n",
       "      <td>somebody invariably try add religion     mean ...</td>\n",
       "      <td>0</td>\n",
       "      <td>0</td>\n",
       "      <td>0</td>\n",
       "      <td>0</td>\n",
       "      <td>0</td>\n",
       "      <td>0</td>\n",
       "    </tr>\n",
       "    <tr>\n",
       "      <th>13</th>\n",
       "      <td>13</td>\n",
       "      <td>0003e1cccfd5a40a</td>\n",
       "      <td>\" \\n\\n It says it right there that it IS a typ...</td>\n",
       "      <td>say right type type institution need case leve...</td>\n",
       "      <td>0</td>\n",
       "      <td>0</td>\n",
       "      <td>0</td>\n",
       "      <td>0</td>\n",
       "      <td>0</td>\n",
       "      <td>0</td>\n",
       "    </tr>\n",
       "    <tr>\n",
       "      <th>14</th>\n",
       "      <td>14</td>\n",
       "      <td>00059ace3e3e9a53</td>\n",
       "      <td>\" \\n\\n == Before adding a new product to the l...</td>\n",
       "      <td>add new product list sure relevant      add ne...</td>\n",
       "      <td>0</td>\n",
       "      <td>0</td>\n",
       "      <td>0</td>\n",
       "      <td>0</td>\n",
       "      <td>0</td>\n",
       "      <td>0</td>\n",
       "    </tr>\n",
       "  </tbody>\n",
       "</table>\n",
       "</div>"
      ],
      "text/plain": [
       "    Unnamed: 0                id  \\\n",
       "5            5  0001ea8717f6de06   \n",
       "7            7  000247e83dcc1211   \n",
       "11          11  0002f87b16116a7f   \n",
       "13          13  0003e1cccfd5a40a   \n",
       "14          14  00059ace3e3e9a53   \n",
       "\n",
       "                                         comment_text  \\\n",
       "5   Thank you for understanding. I think very high...   \n",
       "7                    :Dear god this site is horrible.   \n",
       "11  \"::: Somebody will invariably try to add Relig...   \n",
       "13  \" \\n\\n It says it right there that it IS a typ...   \n",
       "14  \" \\n\\n == Before adding a new product to the l...   \n",
       "\n",
       "                                           clean_text  toxic  severe_toxic  \\\n",
       "5   thank understanding think highly revert discus...      0             0   \n",
       "7                              dear god site horrible      0             0   \n",
       "11  somebody invariably try add religion     mean ...      0             0   \n",
       "13  say right type type institution need case leve...      0             0   \n",
       "14  add new product list sure relevant      add ne...      0             0   \n",
       "\n",
       "    obscene  threat  insult  identity_hate  \n",
       "5         0       0       0              0  \n",
       "7         0       0       0              0  \n",
       "11        0       0       0              0  \n",
       "13        0       0       0              0  \n",
       "14        0       0       0              0  "
      ]
     },
     "execution_count": 70,
     "metadata": {},
     "output_type": "execute_result"
    }
   ],
   "source": [
    "test_label_cols = list(test_df.columns[3:])\n",
    "test_df = test_df[~test_df[test_label_cols].eq(-1).any(axis=1)] #remove irrelevant rows/comments with -1 values\n",
    "#test_df['list'] = list(test_df[test_label_cols].values)\n",
    "#test_df = test_df[['clean_text', 'list']].copy()\n",
    "test_df.head()"
   ]
  },
  {
   "cell_type": "code",
   "execution_count": 71,
   "id": "1a9a1eca-b638-442f-ac3a-18a313db29d0",
   "metadata": {},
   "outputs": [],
   "source": [
    "ds_test = commentDataset(test_df, word_dict, max_length=150)\n",
    "dl_test = DataLoader(ds_test, batch_size=1000, shuffle=False)"
   ]
  },
  {
   "cell_type": "code",
   "execution_count": null,
   "id": "91253b2d-20fe-4515-bbc0-247921d2273a",
   "metadata": {},
   "outputs": [],
   "source": []
  }
 ],
 "metadata": {
  "accelerator": "GPU",
  "colab": {
   "name": "tweet_class_lstm.ipynb",
   "provenance": []
  },
  "gpuClass": "standard",
  "kernelspec": {
   "display_name": "Python 3",
   "language": "python",
   "name": "python3"
  },
  "language_info": {
   "codemirror_mode": {
    "name": "ipython",
    "version": 3
   },
   "file_extension": ".py",
   "mimetype": "text/x-python",
   "name": "python",
   "nbconvert_exporter": "python",
   "pygments_lexer": "ipython3",
   "version": "3.8.11"
  },
  "widgets": {
   "application/vnd.jupyter.widget-state+json": {
    "013778ecabb6434a90214ee186ced5e9": {
     "model_module": "@jupyter-widgets/base",
     "model_module_version": "1.2.0",
     "model_name": "LayoutModel",
     "state": {
      "_model_module": "@jupyter-widgets/base",
      "_model_module_version": "1.2.0",
      "_model_name": "LayoutModel",
      "_view_count": null,
      "_view_module": "@jupyter-widgets/base",
      "_view_module_version": "1.2.0",
      "_view_name": "LayoutView",
      "align_content": null,
      "align_items": null,
      "align_self": null,
      "border": null,
      "bottom": null,
      "display": null,
      "flex": null,
      "flex_flow": null,
      "grid_area": null,
      "grid_auto_columns": null,
      "grid_auto_flow": null,
      "grid_auto_rows": null,
      "grid_column": null,
      "grid_gap": null,
      "grid_row": null,
      "grid_template_areas": null,
      "grid_template_columns": null,
      "grid_template_rows": null,
      "height": null,
      "justify_content": null,
      "justify_items": null,
      "left": null,
      "margin": null,
      "max_height": null,
      "max_width": null,
      "min_height": null,
      "min_width": null,
      "object_fit": null,
      "object_position": null,
      "order": null,
      "overflow": null,
      "overflow_x": null,
      "overflow_y": null,
      "padding": null,
      "right": null,
      "top": null,
      "visibility": null,
      "width": null
     }
    },
    "120342d5bbe44c3e91b5afaf87a783f2": {
     "model_module": "@jupyter-widgets/controls",
     "model_module_version": "1.5.0",
     "model_name": "ProgressStyleModel",
     "state": {
      "_model_module": "@jupyter-widgets/controls",
      "_model_module_version": "1.5.0",
      "_model_name": "ProgressStyleModel",
      "_view_count": null,
      "_view_module": "@jupyter-widgets/base",
      "_view_module_version": "1.2.0",
      "_view_name": "StyleView",
      "bar_color": null,
      "description_width": ""
     }
    },
    "167fa7ace5ad4d99a9985e75fe4bb894": {
     "model_module": "@jupyter-widgets/controls",
     "model_module_version": "1.5.0",
     "model_name": "HBoxModel",
     "state": {
      "_dom_classes": [],
      "_model_module": "@jupyter-widgets/controls",
      "_model_module_version": "1.5.0",
      "_model_name": "HBoxModel",
      "_view_count": null,
      "_view_module": "@jupyter-widgets/controls",
      "_view_module_version": "1.5.0",
      "_view_name": "HBoxView",
      "box_style": "",
      "children": [
       "IPY_MODEL_ffb3ccd14b14435a95e7fddd9284299e",
       "IPY_MODEL_e23b8c26ee9f4a729e6f1b204a5829a8",
       "IPY_MODEL_888b47d2332445d58fc0059dafe48877"
      ],
      "layout": "IPY_MODEL_eff5918e0b984fd0ac84e57cec0fd907"
     }
    },
    "1c31725e773547309b3ef1b59a4baf55": {
     "model_module": "@jupyter-widgets/base",
     "model_module_version": "1.2.0",
     "model_name": "LayoutModel",
     "state": {
      "_model_module": "@jupyter-widgets/base",
      "_model_module_version": "1.2.0",
      "_model_name": "LayoutModel",
      "_view_count": null,
      "_view_module": "@jupyter-widgets/base",
      "_view_module_version": "1.2.0",
      "_view_name": "LayoutView",
      "align_content": null,
      "align_items": null,
      "align_self": null,
      "border": null,
      "bottom": null,
      "display": null,
      "flex": null,
      "flex_flow": null,
      "grid_area": null,
      "grid_auto_columns": null,
      "grid_auto_flow": null,
      "grid_auto_rows": null,
      "grid_column": null,
      "grid_gap": null,
      "grid_row": null,
      "grid_template_areas": null,
      "grid_template_columns": null,
      "grid_template_rows": null,
      "height": null,
      "justify_content": null,
      "justify_items": null,
      "left": null,
      "margin": null,
      "max_height": null,
      "max_width": null,
      "min_height": null,
      "min_width": null,
      "object_fit": null,
      "object_position": null,
      "order": null,
      "overflow": null,
      "overflow_x": null,
      "overflow_y": null,
      "padding": null,
      "right": null,
      "top": null,
      "visibility": null,
      "width": null
     }
    },
    "2141aafa212d46f6a72e9d275eb24b9b": {
     "model_module": "@jupyter-widgets/controls",
     "model_module_version": "1.5.0",
     "model_name": "HBoxModel",
     "state": {
      "_dom_classes": [],
      "_model_module": "@jupyter-widgets/controls",
      "_model_module_version": "1.5.0",
      "_model_name": "HBoxModel",
      "_view_count": null,
      "_view_module": "@jupyter-widgets/controls",
      "_view_module_version": "1.5.0",
      "_view_name": "HBoxView",
      "box_style": "",
      "children": [
       "IPY_MODEL_61b81b45461c40a6a7b3d92ce8277804",
       "IPY_MODEL_40d596154a12408d9759de3c74e994eb",
       "IPY_MODEL_61852681f3034244b66c299fafb15ca3"
      ],
      "layout": "IPY_MODEL_adc60cb98620416fa7ffe6923fb627af"
     }
    },
    "3bf6ec743ea843ff9ccf3daa6b238928": {
     "model_module": "@jupyter-widgets/base",
     "model_module_version": "1.2.0",
     "model_name": "LayoutModel",
     "state": {
      "_model_module": "@jupyter-widgets/base",
      "_model_module_version": "1.2.0",
      "_model_name": "LayoutModel",
      "_view_count": null,
      "_view_module": "@jupyter-widgets/base",
      "_view_module_version": "1.2.0",
      "_view_name": "LayoutView",
      "align_content": null,
      "align_items": null,
      "align_self": null,
      "border": null,
      "bottom": null,
      "display": null,
      "flex": null,
      "flex_flow": null,
      "grid_area": null,
      "grid_auto_columns": null,
      "grid_auto_flow": null,
      "grid_auto_rows": null,
      "grid_column": null,
      "grid_gap": null,
      "grid_row": null,
      "grid_template_areas": null,
      "grid_template_columns": null,
      "grid_template_rows": null,
      "height": null,
      "justify_content": null,
      "justify_items": null,
      "left": null,
      "margin": null,
      "max_height": null,
      "max_width": null,
      "min_height": null,
      "min_width": null,
      "object_fit": null,
      "object_position": null,
      "order": null,
      "overflow": null,
      "overflow_x": null,
      "overflow_y": null,
      "padding": null,
      "right": null,
      "top": null,
      "visibility": null,
      "width": null
     }
    },
    "40d596154a12408d9759de3c74e994eb": {
     "model_module": "@jupyter-widgets/controls",
     "model_module_version": "1.5.0",
     "model_name": "FloatProgressModel",
     "state": {
      "_dom_classes": [],
      "_model_module": "@jupyter-widgets/controls",
      "_model_module_version": "1.5.0",
      "_model_name": "FloatProgressModel",
      "_view_count": null,
      "_view_module": "@jupyter-widgets/controls",
      "_view_module_version": "1.5.0",
      "_view_name": "ProgressView",
      "bar_style": "",
      "description": "",
      "description_tooltip": null,
      "layout": "IPY_MODEL_013778ecabb6434a90214ee186ced5e9",
      "max": 1596,
      "min": 0,
      "orientation": "horizontal",
      "style": "IPY_MODEL_9da2d622d0b5487abdb4eecfbf98737d",
      "value": 71
     }
    },
    "4871664bba9c4c46b047dc93d629bc0e": {
     "model_module": "@jupyter-widgets/controls",
     "model_module_version": "1.5.0",
     "model_name": "DescriptionStyleModel",
     "state": {
      "_model_module": "@jupyter-widgets/controls",
      "_model_module_version": "1.5.0",
      "_model_name": "DescriptionStyleModel",
      "_view_count": null,
      "_view_module": "@jupyter-widgets/base",
      "_view_module_version": "1.2.0",
      "_view_name": "StyleView",
      "description_width": ""
     }
    },
    "61852681f3034244b66c299fafb15ca3": {
     "model_module": "@jupyter-widgets/controls",
     "model_module_version": "1.5.0",
     "model_name": "HTMLModel",
     "state": {
      "_dom_classes": [],
      "_model_module": "@jupyter-widgets/controls",
      "_model_module_version": "1.5.0",
      "_model_name": "HTMLModel",
      "_view_count": null,
      "_view_module": "@jupyter-widgets/controls",
      "_view_module_version": "1.5.0",
      "_view_name": "HTMLView",
      "description": "",
      "description_tooltip": null,
      "layout": "IPY_MODEL_e49f4334026c43cc886ef96fe4669cf1",
      "placeholder": "​",
      "style": "IPY_MODEL_4871664bba9c4c46b047dc93d629bc0e",
      "value": " 71/1596 [00:09&lt;02:58,  8.54it/s]"
     }
    },
    "61b81b45461c40a6a7b3d92ce8277804": {
     "model_module": "@jupyter-widgets/controls",
     "model_module_version": "1.5.0",
     "model_name": "HTMLModel",
     "state": {
      "_dom_classes": [],
      "_model_module": "@jupyter-widgets/controls",
      "_model_module_version": "1.5.0",
      "_model_name": "HTMLModel",
      "_view_count": null,
      "_view_module": "@jupyter-widgets/controls",
      "_view_module_version": "1.5.0",
      "_view_name": "HTMLView",
      "description": "",
      "description_tooltip": null,
      "layout": "IPY_MODEL_c076cfe2d0c04dbf8aab734b164ec94e",
      "placeholder": "​",
      "style": "IPY_MODEL_ddc7a9cc6fc546afa285a2088df8bed2",
      "value": "  4%"
     }
    },
    "6f61805f501c42c9b3d0d871470bab03": {
     "model_module": "@jupyter-widgets/controls",
     "model_module_version": "1.5.0",
     "model_name": "DescriptionStyleModel",
     "state": {
      "_model_module": "@jupyter-widgets/controls",
      "_model_module_version": "1.5.0",
      "_model_name": "DescriptionStyleModel",
      "_view_count": null,
      "_view_module": "@jupyter-widgets/base",
      "_view_module_version": "1.2.0",
      "_view_name": "StyleView",
      "description_width": ""
     }
    },
    "888b47d2332445d58fc0059dafe48877": {
     "model_module": "@jupyter-widgets/controls",
     "model_module_version": "1.5.0",
     "model_name": "HTMLModel",
     "state": {
      "_dom_classes": [],
      "_model_module": "@jupyter-widgets/controls",
      "_model_module_version": "1.5.0",
      "_model_name": "HTMLModel",
      "_view_count": null,
      "_view_module": "@jupyter-widgets/controls",
      "_view_module_version": "1.5.0",
      "_view_name": "HTMLView",
      "description": "",
      "description_tooltip": null,
      "layout": "IPY_MODEL_a5867a07b0ff47edb15c50f335e3a4f8",
      "placeholder": "​",
      "style": "IPY_MODEL_93021a75c8a84b91b7632735ade0bd6b",
      "value": " 0/1 [00:00&lt;?, ?it/s]"
     }
    },
    "93021a75c8a84b91b7632735ade0bd6b": {
     "model_module": "@jupyter-widgets/controls",
     "model_module_version": "1.5.0",
     "model_name": "DescriptionStyleModel",
     "state": {
      "_model_module": "@jupyter-widgets/controls",
      "_model_module_version": "1.5.0",
      "_model_name": "DescriptionStyleModel",
      "_view_count": null,
      "_view_module": "@jupyter-widgets/base",
      "_view_module_version": "1.2.0",
      "_view_name": "StyleView",
      "description_width": ""
     }
    },
    "9da2d622d0b5487abdb4eecfbf98737d": {
     "model_module": "@jupyter-widgets/controls",
     "model_module_version": "1.5.0",
     "model_name": "ProgressStyleModel",
     "state": {
      "_model_module": "@jupyter-widgets/controls",
      "_model_module_version": "1.5.0",
      "_model_name": "ProgressStyleModel",
      "_view_count": null,
      "_view_module": "@jupyter-widgets/base",
      "_view_module_version": "1.2.0",
      "_view_name": "StyleView",
      "bar_color": null,
      "description_width": ""
     }
    },
    "a5867a07b0ff47edb15c50f335e3a4f8": {
     "model_module": "@jupyter-widgets/base",
     "model_module_version": "1.2.0",
     "model_name": "LayoutModel",
     "state": {
      "_model_module": "@jupyter-widgets/base",
      "_model_module_version": "1.2.0",
      "_model_name": "LayoutModel",
      "_view_count": null,
      "_view_module": "@jupyter-widgets/base",
      "_view_module_version": "1.2.0",
      "_view_name": "LayoutView",
      "align_content": null,
      "align_items": null,
      "align_self": null,
      "border": null,
      "bottom": null,
      "display": null,
      "flex": null,
      "flex_flow": null,
      "grid_area": null,
      "grid_auto_columns": null,
      "grid_auto_flow": null,
      "grid_auto_rows": null,
      "grid_column": null,
      "grid_gap": null,
      "grid_row": null,
      "grid_template_areas": null,
      "grid_template_columns": null,
      "grid_template_rows": null,
      "height": null,
      "justify_content": null,
      "justify_items": null,
      "left": null,
      "margin": null,
      "max_height": null,
      "max_width": null,
      "min_height": null,
      "min_width": null,
      "object_fit": null,
      "object_position": null,
      "order": null,
      "overflow": null,
      "overflow_x": null,
      "overflow_y": null,
      "padding": null,
      "right": null,
      "top": null,
      "visibility": null,
      "width": null
     }
    },
    "adc60cb98620416fa7ffe6923fb627af": {
     "model_module": "@jupyter-widgets/base",
     "model_module_version": "1.2.0",
     "model_name": "LayoutModel",
     "state": {
      "_model_module": "@jupyter-widgets/base",
      "_model_module_version": "1.2.0",
      "_model_name": "LayoutModel",
      "_view_count": null,
      "_view_module": "@jupyter-widgets/base",
      "_view_module_version": "1.2.0",
      "_view_name": "LayoutView",
      "align_content": null,
      "align_items": null,
      "align_self": null,
      "border": null,
      "bottom": null,
      "display": null,
      "flex": null,
      "flex_flow": null,
      "grid_area": null,
      "grid_auto_columns": null,
      "grid_auto_flow": null,
      "grid_auto_rows": null,
      "grid_column": null,
      "grid_gap": null,
      "grid_row": null,
      "grid_template_areas": null,
      "grid_template_columns": null,
      "grid_template_rows": null,
      "height": null,
      "justify_content": null,
      "justify_items": null,
      "left": null,
      "margin": null,
      "max_height": null,
      "max_width": null,
      "min_height": null,
      "min_width": null,
      "object_fit": null,
      "object_position": null,
      "order": null,
      "overflow": null,
      "overflow_x": null,
      "overflow_y": null,
      "padding": null,
      "right": null,
      "top": null,
      "visibility": null,
      "width": null
     }
    },
    "c076cfe2d0c04dbf8aab734b164ec94e": {
     "model_module": "@jupyter-widgets/base",
     "model_module_version": "1.2.0",
     "model_name": "LayoutModel",
     "state": {
      "_model_module": "@jupyter-widgets/base",
      "_model_module_version": "1.2.0",
      "_model_name": "LayoutModel",
      "_view_count": null,
      "_view_module": "@jupyter-widgets/base",
      "_view_module_version": "1.2.0",
      "_view_name": "LayoutView",
      "align_content": null,
      "align_items": null,
      "align_self": null,
      "border": null,
      "bottom": null,
      "display": null,
      "flex": null,
      "flex_flow": null,
      "grid_area": null,
      "grid_auto_columns": null,
      "grid_auto_flow": null,
      "grid_auto_rows": null,
      "grid_column": null,
      "grid_gap": null,
      "grid_row": null,
      "grid_template_areas": null,
      "grid_template_columns": null,
      "grid_template_rows": null,
      "height": null,
      "justify_content": null,
      "justify_items": null,
      "left": null,
      "margin": null,
      "max_height": null,
      "max_width": null,
      "min_height": null,
      "min_width": null,
      "object_fit": null,
      "object_position": null,
      "order": null,
      "overflow": null,
      "overflow_x": null,
      "overflow_y": null,
      "padding": null,
      "right": null,
      "top": null,
      "visibility": null,
      "width": null
     }
    },
    "ddc7a9cc6fc546afa285a2088df8bed2": {
     "model_module": "@jupyter-widgets/controls",
     "model_module_version": "1.5.0",
     "model_name": "DescriptionStyleModel",
     "state": {
      "_model_module": "@jupyter-widgets/controls",
      "_model_module_version": "1.5.0",
      "_model_name": "DescriptionStyleModel",
      "_view_count": null,
      "_view_module": "@jupyter-widgets/base",
      "_view_module_version": "1.2.0",
      "_view_name": "StyleView",
      "description_width": ""
     }
    },
    "e23b8c26ee9f4a729e6f1b204a5829a8": {
     "model_module": "@jupyter-widgets/controls",
     "model_module_version": "1.5.0",
     "model_name": "FloatProgressModel",
     "state": {
      "_dom_classes": [],
      "_model_module": "@jupyter-widgets/controls",
      "_model_module_version": "1.5.0",
      "_model_name": "FloatProgressModel",
      "_view_count": null,
      "_view_module": "@jupyter-widgets/controls",
      "_view_module_version": "1.5.0",
      "_view_name": "ProgressView",
      "bar_style": "",
      "description": "",
      "description_tooltip": null,
      "layout": "IPY_MODEL_1c31725e773547309b3ef1b59a4baf55",
      "max": 1,
      "min": 0,
      "orientation": "horizontal",
      "style": "IPY_MODEL_120342d5bbe44c3e91b5afaf87a783f2",
      "value": 0
     }
    },
    "e49f4334026c43cc886ef96fe4669cf1": {
     "model_module": "@jupyter-widgets/base",
     "model_module_version": "1.2.0",
     "model_name": "LayoutModel",
     "state": {
      "_model_module": "@jupyter-widgets/base",
      "_model_module_version": "1.2.0",
      "_model_name": "LayoutModel",
      "_view_count": null,
      "_view_module": "@jupyter-widgets/base",
      "_view_module_version": "1.2.0",
      "_view_name": "LayoutView",
      "align_content": null,
      "align_items": null,
      "align_self": null,
      "border": null,
      "bottom": null,
      "display": null,
      "flex": null,
      "flex_flow": null,
      "grid_area": null,
      "grid_auto_columns": null,
      "grid_auto_flow": null,
      "grid_auto_rows": null,
      "grid_column": null,
      "grid_gap": null,
      "grid_row": null,
      "grid_template_areas": null,
      "grid_template_columns": null,
      "grid_template_rows": null,
      "height": null,
      "justify_content": null,
      "justify_items": null,
      "left": null,
      "margin": null,
      "max_height": null,
      "max_width": null,
      "min_height": null,
      "min_width": null,
      "object_fit": null,
      "object_position": null,
      "order": null,
      "overflow": null,
      "overflow_x": null,
      "overflow_y": null,
      "padding": null,
      "right": null,
      "top": null,
      "visibility": null,
      "width": null
     }
    },
    "eff5918e0b984fd0ac84e57cec0fd907": {
     "model_module": "@jupyter-widgets/base",
     "model_module_version": "1.2.0",
     "model_name": "LayoutModel",
     "state": {
      "_model_module": "@jupyter-widgets/base",
      "_model_module_version": "1.2.0",
      "_model_name": "LayoutModel",
      "_view_count": null,
      "_view_module": "@jupyter-widgets/base",
      "_view_module_version": "1.2.0",
      "_view_name": "LayoutView",
      "align_content": null,
      "align_items": null,
      "align_self": null,
      "border": null,
      "bottom": null,
      "display": null,
      "flex": null,
      "flex_flow": null,
      "grid_area": null,
      "grid_auto_columns": null,
      "grid_auto_flow": null,
      "grid_auto_rows": null,
      "grid_column": null,
      "grid_gap": null,
      "grid_row": null,
      "grid_template_areas": null,
      "grid_template_columns": null,
      "grid_template_rows": null,
      "height": null,
      "justify_content": null,
      "justify_items": null,
      "left": null,
      "margin": null,
      "max_height": null,
      "max_width": null,
      "min_height": null,
      "min_width": null,
      "object_fit": null,
      "object_position": null,
      "order": null,
      "overflow": null,
      "overflow_x": null,
      "overflow_y": null,
      "padding": null,
      "right": null,
      "top": null,
      "visibility": null,
      "width": null
     }
    },
    "ffb3ccd14b14435a95e7fddd9284299e": {
     "model_module": "@jupyter-widgets/controls",
     "model_module_version": "1.5.0",
     "model_name": "HTMLModel",
     "state": {
      "_dom_classes": [],
      "_model_module": "@jupyter-widgets/controls",
      "_model_module_version": "1.5.0",
      "_model_name": "HTMLModel",
      "_view_count": null,
      "_view_module": "@jupyter-widgets/controls",
      "_view_module_version": "1.5.0",
      "_view_name": "HTMLView",
      "description": "",
      "description_tooltip": null,
      "layout": "IPY_MODEL_3bf6ec743ea843ff9ccf3daa6b238928",
      "placeholder": "​",
      "style": "IPY_MODEL_6f61805f501c42c9b3d0d871470bab03",
      "value": "  0%"
     }
    }
   }
  }
 },
 "nbformat": 4,
 "nbformat_minor": 5
}
